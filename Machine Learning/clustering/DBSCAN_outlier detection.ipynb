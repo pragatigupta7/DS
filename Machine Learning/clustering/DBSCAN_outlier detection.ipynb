{
 "cells": [
  {
   "cell_type": "markdown",
   "id": "c74fcf71",
   "metadata": {},
   "source": [
    "# 1. Importing necessary libraries"
   ]
  },
  {
   "cell_type": "code",
   "execution_count": null,
   "id": "5d4e5c9e",
   "metadata": {
    "ExecuteTime": {
     "end_time": "2023-10-21T06:59:42.512375Z",
     "start_time": "2023-10-21T06:59:37.873610Z"
    }
   },
   "outputs": [],
   "source": [
    "#Import libraries\n",
    "import pandas as pd\n",
    "import numpy as np\n",
    "import matplotlib.pyplot as plt\n",
    "import seaborn as sns\n",
    "plt.rcParams['figure.figsize'] = (10,5)\n",
    "plt.rcParams['figure.dpi'] = 250\n",
    "sns.set_style('darkgrid')\n",
    "%matplotlib inline"
   ]
  },
  {
   "cell_type": "markdown",
   "id": "722fd842",
   "metadata": {},
   "source": [
    "# 2. Import Dataset"
   ]
  },
  {
   "cell_type": "code",
   "execution_count": 57,
   "id": "2cf89ee7",
   "metadata": {
    "ExecuteTime": {
     "end_time": "2023-10-21T06:59:58.223403Z",
     "start_time": "2023-10-21T06:59:57.623396Z"
    }
   },
   "outputs": [
    {
     "data": {
      "text/html": [
       "<div>\n",
       "<style scoped>\n",
       "    .dataframe tbody tr th:only-of-type {\n",
       "        vertical-align: middle;\n",
       "    }\n",
       "\n",
       "    .dataframe tbody tr th {\n",
       "        vertical-align: top;\n",
       "    }\n",
       "\n",
       "    .dataframe thead th {\n",
       "        text-align: right;\n",
       "    }\n",
       "</style>\n",
       "<table border=\"1\" class=\"dataframe\">\n",
       "  <thead>\n",
       "    <tr style=\"text-align: right;\">\n",
       "      <th></th>\n",
       "      <th>Region</th>\n",
       "      <th>Fresh</th>\n",
       "      <th>Milk</th>\n",
       "      <th>Grocery</th>\n",
       "      <th>Frozen</th>\n",
       "      <th>Detergents_Paper</th>\n",
       "      <th>Delicassen</th>\n",
       "    </tr>\n",
       "    <tr>\n",
       "      <th>Channel</th>\n",
       "      <th></th>\n",
       "      <th></th>\n",
       "      <th></th>\n",
       "      <th></th>\n",
       "      <th></th>\n",
       "      <th></th>\n",
       "      <th></th>\n",
       "    </tr>\n",
       "  </thead>\n",
       "  <tbody>\n",
       "    <tr>\n",
       "      <th>2</th>\n",
       "      <td>3</td>\n",
       "      <td>12669</td>\n",
       "      <td>9656</td>\n",
       "      <td>7561</td>\n",
       "      <td>214</td>\n",
       "      <td>2674</td>\n",
       "      <td>1338</td>\n",
       "    </tr>\n",
       "    <tr>\n",
       "      <th>2</th>\n",
       "      <td>3</td>\n",
       "      <td>7057</td>\n",
       "      <td>9810</td>\n",
       "      <td>9568</td>\n",
       "      <td>1762</td>\n",
       "      <td>3293</td>\n",
       "      <td>1776</td>\n",
       "    </tr>\n",
       "    <tr>\n",
       "      <th>2</th>\n",
       "      <td>3</td>\n",
       "      <td>6353</td>\n",
       "      <td>8808</td>\n",
       "      <td>7684</td>\n",
       "      <td>2405</td>\n",
       "      <td>3516</td>\n",
       "      <td>7844</td>\n",
       "    </tr>\n",
       "    <tr>\n",
       "      <th>1</th>\n",
       "      <td>3</td>\n",
       "      <td>13265</td>\n",
       "      <td>1196</td>\n",
       "      <td>4221</td>\n",
       "      <td>6404</td>\n",
       "      <td>507</td>\n",
       "      <td>1788</td>\n",
       "    </tr>\n",
       "    <tr>\n",
       "      <th>2</th>\n",
       "      <td>3</td>\n",
       "      <td>22615</td>\n",
       "      <td>5410</td>\n",
       "      <td>7198</td>\n",
       "      <td>3915</td>\n",
       "      <td>1777</td>\n",
       "      <td>5185</td>\n",
       "    </tr>\n",
       "  </tbody>\n",
       "</table>\n",
       "</div>"
      ],
      "text/plain": [
       "         Region  Fresh  Milk  Grocery  Frozen  Detergents_Paper  Delicassen\n",
       "Channel                                                                    \n",
       "2             3  12669  9656     7561     214              2674        1338\n",
       "2             3   7057  9810     9568    1762              3293        1776\n",
       "2             3   6353  8808     7684    2405              3516        7844\n",
       "1             3  13265  1196     4221    6404               507        1788\n",
       "2             3  22615  5410     7198    3915              1777        5185"
      ]
     },
     "execution_count": 57,
     "metadata": {},
     "output_type": "execute_result"
    }
   ],
   "source": [
    "df = pd.read_csv('Wholesale customers data.csv', index_col=0)\n",
    "\n",
    "df.head()"
   ]
  },
  {
   "cell_type": "code",
   "execution_count": 9,
   "id": "55b6c018",
   "metadata": {
    "ExecuteTime": {
     "end_time": "2023-10-21T07:01:30.619668Z",
     "start_time": "2023-10-21T07:01:30.542182Z"
    },
    "scrolled": true
   },
   "outputs": [
    {
     "data": {
      "text/html": [
       "<div>\n",
       "<style scoped>\n",
       "    .dataframe tbody tr th:only-of-type {\n",
       "        vertical-align: middle;\n",
       "    }\n",
       "\n",
       "    .dataframe tbody tr th {\n",
       "        vertical-align: top;\n",
       "    }\n",
       "\n",
       "    .dataframe thead th {\n",
       "        text-align: right;\n",
       "    }\n",
       "</style>\n",
       "<table border=\"1\" class=\"dataframe\">\n",
       "  <thead>\n",
       "    <tr style=\"text-align: right;\">\n",
       "      <th></th>\n",
       "      <th>Region</th>\n",
       "      <th>Fresh</th>\n",
       "      <th>Milk</th>\n",
       "      <th>Grocery</th>\n",
       "      <th>Frozen</th>\n",
       "      <th>Detergents_Paper</th>\n",
       "      <th>Delicassen</th>\n",
       "    </tr>\n",
       "  </thead>\n",
       "  <tbody>\n",
       "    <tr>\n",
       "      <th>count</th>\n",
       "      <td>440.000000</td>\n",
       "      <td>440.000000</td>\n",
       "      <td>440.000000</td>\n",
       "      <td>440.000000</td>\n",
       "      <td>440.000000</td>\n",
       "      <td>440.000000</td>\n",
       "      <td>440.000000</td>\n",
       "    </tr>\n",
       "    <tr>\n",
       "      <th>mean</th>\n",
       "      <td>2.543182</td>\n",
       "      <td>12000.297727</td>\n",
       "      <td>5796.265909</td>\n",
       "      <td>7951.277273</td>\n",
       "      <td>3071.931818</td>\n",
       "      <td>2881.493182</td>\n",
       "      <td>1524.870455</td>\n",
       "    </tr>\n",
       "    <tr>\n",
       "      <th>std</th>\n",
       "      <td>0.774272</td>\n",
       "      <td>12647.328865</td>\n",
       "      <td>7380.377175</td>\n",
       "      <td>9503.162829</td>\n",
       "      <td>4854.673333</td>\n",
       "      <td>4767.854448</td>\n",
       "      <td>2820.105937</td>\n",
       "    </tr>\n",
       "    <tr>\n",
       "      <th>min</th>\n",
       "      <td>1.000000</td>\n",
       "      <td>3.000000</td>\n",
       "      <td>55.000000</td>\n",
       "      <td>3.000000</td>\n",
       "      <td>25.000000</td>\n",
       "      <td>3.000000</td>\n",
       "      <td>3.000000</td>\n",
       "    </tr>\n",
       "    <tr>\n",
       "      <th>25%</th>\n",
       "      <td>2.000000</td>\n",
       "      <td>3127.750000</td>\n",
       "      <td>1533.000000</td>\n",
       "      <td>2153.000000</td>\n",
       "      <td>742.250000</td>\n",
       "      <td>256.750000</td>\n",
       "      <td>408.250000</td>\n",
       "    </tr>\n",
       "    <tr>\n",
       "      <th>50%</th>\n",
       "      <td>3.000000</td>\n",
       "      <td>8504.000000</td>\n",
       "      <td>3627.000000</td>\n",
       "      <td>4755.500000</td>\n",
       "      <td>1526.000000</td>\n",
       "      <td>816.500000</td>\n",
       "      <td>965.500000</td>\n",
       "    </tr>\n",
       "    <tr>\n",
       "      <th>75%</th>\n",
       "      <td>3.000000</td>\n",
       "      <td>16933.750000</td>\n",
       "      <td>7190.250000</td>\n",
       "      <td>10655.750000</td>\n",
       "      <td>3554.250000</td>\n",
       "      <td>3922.000000</td>\n",
       "      <td>1820.250000</td>\n",
       "    </tr>\n",
       "    <tr>\n",
       "      <th>max</th>\n",
       "      <td>3.000000</td>\n",
       "      <td>112151.000000</td>\n",
       "      <td>73498.000000</td>\n",
       "      <td>92780.000000</td>\n",
       "      <td>60869.000000</td>\n",
       "      <td>40827.000000</td>\n",
       "      <td>47943.000000</td>\n",
       "    </tr>\n",
       "  </tbody>\n",
       "</table>\n",
       "</div>"
      ],
      "text/plain": [
       "           Region          Fresh          Milk       Grocery        Frozen  \\\n",
       "count  440.000000     440.000000    440.000000    440.000000    440.000000   \n",
       "mean     2.543182   12000.297727   5796.265909   7951.277273   3071.931818   \n",
       "std      0.774272   12647.328865   7380.377175   9503.162829   4854.673333   \n",
       "min      1.000000       3.000000     55.000000      3.000000     25.000000   \n",
       "25%      2.000000    3127.750000   1533.000000   2153.000000    742.250000   \n",
       "50%      3.000000    8504.000000   3627.000000   4755.500000   1526.000000   \n",
       "75%      3.000000   16933.750000   7190.250000  10655.750000   3554.250000   \n",
       "max      3.000000  112151.000000  73498.000000  92780.000000  60869.000000   \n",
       "\n",
       "       Detergents_Paper    Delicassen  \n",
       "count        440.000000    440.000000  \n",
       "mean        2881.493182   1524.870455  \n",
       "std         4767.854448   2820.105937  \n",
       "min            3.000000      3.000000  \n",
       "25%          256.750000    408.250000  \n",
       "50%          816.500000    965.500000  \n",
       "75%         3922.000000   1820.250000  \n",
       "max        40827.000000  47943.000000  "
      ]
     },
     "execution_count": 9,
     "metadata": {},
     "output_type": "execute_result"
    }
   ],
   "source": [
    "df.describe()"
   ]
  },
  {
   "cell_type": "code",
   "execution_count": 10,
   "id": "721dfd04",
   "metadata": {},
   "outputs": [
    {
     "data": {
      "text/plain": [
       "(440, 7)"
      ]
     },
     "execution_count": 10,
     "metadata": {},
     "output_type": "execute_result"
    }
   ],
   "source": [
    "df.shape"
   ]
  },
  {
   "cell_type": "code",
   "execution_count": 11,
   "id": "0a126dae",
   "metadata": {
    "ExecuteTime": {
     "end_time": "2023-10-21T07:03:02.494114Z",
     "start_time": "2023-10-21T07:03:01.793276Z"
    }
   },
   "outputs": [
    {
     "data": {
      "text/plain": [
       "<AxesSubplot:>"
      ]
     },
     "execution_count": 11,
     "metadata": {},
     "output_type": "execute_result"
    },
    {
     "data": {
      "image/png": "[encoded data removed]",
      "text/plain": [
       "<Figure size 432x288 with 1 Axes>"
      ]
     },
     "metadata": {
      "needs_background": "light"
     },
     "output_type": "display_data"
    }
   ],
   "source": [
    " df.boxplot()"
   ]
  },
  {
   "cell_type": "code",
   "execution_count": 12,
   "id": "eb3b5775",
   "metadata": {
    "ExecuteTime": {
     "end_time": "2023-10-21T07:03:29.485851Z",
     "start_time": "2023-10-21T07:03:20.797657Z"
    }
   },
   "outputs": [
    {
     "name": "stderr",
     "output_type": "stream",
     "text": [
      "C:\\Users\\ds\\anaconda3\\lib\\site-packages\\seaborn\\_core.py:1057: FutureWarning: reindexing with a non-unique Index is deprecated and will raise in a future version.\n",
      "  comp_col.loc[orig.index] = pd.to_numeric(axis.convert_units(orig))\n"
     ]
    },
    {
     "ename": "ValueError",
     "evalue": "cannot reindex on an axis with duplicate labels",
     "output_type": "error",
     "traceback": [
      "\u001b[1;31m---------------------------------------------------------------------------\u001b[0m",
      "\u001b[1;31mValueError\u001b[0m                                Traceback (most recent call last)",
      "\u001b[1;32m~\\AppData\\Local\\Temp/ipykernel_10708/4185451203.py\u001b[0m in \u001b[0;36m<module>\u001b[1;34m\u001b[0m\n\u001b[1;32m----> 1\u001b[1;33m \u001b[0msns\u001b[0m\u001b[1;33m.\u001b[0m\u001b[0mpairplot\u001b[0m\u001b[1;33m(\u001b[0m\u001b[0mdf\u001b[0m\u001b[1;33m)\u001b[0m\u001b[1;33m\u001b[0m\u001b[1;33m\u001b[0m\u001b[0m\n\u001b[0m",
      "\u001b[1;32mC:\\Users\\ds\\anaconda3\\lib\\site-packages\\seaborn\\_decorators.py\u001b[0m in \u001b[0;36minner_f\u001b[1;34m(*args, **kwargs)\u001b[0m\n\u001b[0;32m     44\u001b[0m             )\n\u001b[0;32m     45\u001b[0m         \u001b[0mkwargs\u001b[0m\u001b[1;33m.\u001b[0m\u001b[0mupdate\u001b[0m\u001b[1;33m(\u001b[0m\u001b[1;33m{\u001b[0m\u001b[0mk\u001b[0m\u001b[1;33m:\u001b[0m \u001b[0marg\u001b[0m \u001b[1;32mfor\u001b[0m \u001b[0mk\u001b[0m\u001b[1;33m,\u001b[0m \u001b[0marg\u001b[0m \u001b[1;32min\u001b[0m \u001b[0mzip\u001b[0m\u001b[1;33m(\u001b[0m\u001b[0msig\u001b[0m\u001b[1;33m.\u001b[0m\u001b[0mparameters\u001b[0m\u001b[1;33m,\u001b[0m \u001b[0margs\u001b[0m\u001b[1;33m)\u001b[0m\u001b[1;33m}\u001b[0m\u001b[1;33m)\u001b[0m\u001b[1;33m\u001b[0m\u001b[1;33m\u001b[0m\u001b[0m\n\u001b[1;32m---> 46\u001b[1;33m         \u001b[1;32mreturn\u001b[0m \u001b[0mf\u001b[0m\u001b[1;33m(\u001b[0m\u001b[1;33m**\u001b[0m\u001b[0mkwargs\u001b[0m\u001b[1;33m)\u001b[0m\u001b[1;33m\u001b[0m\u001b[1;33m\u001b[0m\u001b[0m\n\u001b[0m\u001b[0;32m     47\u001b[0m     \u001b[1;32mreturn\u001b[0m \u001b[0minner_f\u001b[0m\u001b[1;33m\u001b[0m\u001b[1;33m\u001b[0m\u001b[0m\n\u001b[0;32m     48\u001b[0m \u001b[1;33m\u001b[0m\u001b[0m\n",
      "\u001b[1;32mC:\\Users\\ds\\anaconda3\\lib\\site-packages\\seaborn\\axisgrid.py\u001b[0m in \u001b[0;36mpairplot\u001b[1;34m(data, hue, hue_order, palette, vars, x_vars, y_vars, kind, diag_kind, markers, height, aspect, corner, dropna, plot_kws, diag_kws, grid_kws, size)\u001b[0m\n\u001b[0;32m   2124\u001b[0m     \u001b[0mdiag_kws\u001b[0m\u001b[1;33m.\u001b[0m\u001b[0msetdefault\u001b[0m\u001b[1;33m(\u001b[0m\u001b[1;34m\"legend\"\u001b[0m\u001b[1;33m,\u001b[0m \u001b[1;32mFalse\u001b[0m\u001b[1;33m)\u001b[0m\u001b[1;33m\u001b[0m\u001b[1;33m\u001b[0m\u001b[0m\n\u001b[0;32m   2125\u001b[0m     \u001b[1;32mif\u001b[0m \u001b[0mdiag_kind\u001b[0m \u001b[1;33m==\u001b[0m \u001b[1;34m\"hist\"\u001b[0m\u001b[1;33m:\u001b[0m\u001b[1;33m\u001b[0m\u001b[1;33m\u001b[0m\u001b[0m\n\u001b[1;32m-> 2126\u001b[1;33m         \u001b[0mgrid\u001b[0m\u001b[1;33m.\u001b[0m\u001b[0mmap_diag\u001b[0m\u001b[1;33m(\u001b[0m\u001b[0mhistplot\u001b[0m\u001b[1;33m,\u001b[0m \u001b[1;33m**\u001b[0m\u001b[0mdiag_kws\u001b[0m\u001b[1;33m)\u001b[0m\u001b[1;33m\u001b[0m\u001b[1;33m\u001b[0m\u001b[0m\n\u001b[0m\u001b[0;32m   2127\u001b[0m     \u001b[1;32melif\u001b[0m \u001b[0mdiag_kind\u001b[0m \u001b[1;33m==\u001b[0m \u001b[1;34m\"kde\"\u001b[0m\u001b[1;33m:\u001b[0m\u001b[1;33m\u001b[0m\u001b[1;33m\u001b[0m\u001b[0m\n\u001b[0;32m   2128\u001b[0m         \u001b[0mdiag_kws\u001b[0m\u001b[1;33m.\u001b[0m\u001b[0msetdefault\u001b[0m\u001b[1;33m(\u001b[0m\u001b[1;34m\"fill\"\u001b[0m\u001b[1;33m,\u001b[0m \u001b[1;32mTrue\u001b[0m\u001b[1;33m)\u001b[0m\u001b[1;33m\u001b[0m\u001b[1;33m\u001b[0m\u001b[0m\n",
      "\u001b[1;32mC:\\Users\\ds\\anaconda3\\lib\\site-packages\\seaborn\\axisgrid.py\u001b[0m in \u001b[0;36mmap_diag\u001b[1;34m(self, func, **kwargs)\u001b[0m\n\u001b[0;32m   1476\u001b[0m             \u001b[0mplot_kwargs\u001b[0m\u001b[1;33m.\u001b[0m\u001b[0msetdefault\u001b[0m\u001b[1;33m(\u001b[0m\u001b[1;34m\"hue_order\"\u001b[0m\u001b[1;33m,\u001b[0m \u001b[0mself\u001b[0m\u001b[1;33m.\u001b[0m\u001b[0m_hue_order\u001b[0m\u001b[1;33m)\u001b[0m\u001b[1;33m\u001b[0m\u001b[1;33m\u001b[0m\u001b[0m\n\u001b[0;32m   1477\u001b[0m             \u001b[0mplot_kwargs\u001b[0m\u001b[1;33m.\u001b[0m\u001b[0msetdefault\u001b[0m\u001b[1;33m(\u001b[0m\u001b[1;34m\"palette\"\u001b[0m\u001b[1;33m,\u001b[0m \u001b[0mself\u001b[0m\u001b[1;33m.\u001b[0m\u001b[0m_orig_palette\u001b[0m\u001b[1;33m)\u001b[0m\u001b[1;33m\u001b[0m\u001b[1;33m\u001b[0m\u001b[0m\n\u001b[1;32m-> 1478\u001b[1;33m             \u001b[0mfunc\u001b[0m\u001b[1;33m(\u001b[0m\u001b[0mx\u001b[0m\u001b[1;33m=\u001b[0m\u001b[0mvector\u001b[0m\u001b[1;33m,\u001b[0m \u001b[1;33m**\u001b[0m\u001b[0mplot_kwargs\u001b[0m\u001b[1;33m)\u001b[0m\u001b[1;33m\u001b[0m\u001b[1;33m\u001b[0m\u001b[0m\n\u001b[0m\u001b[0;32m   1479\u001b[0m             \u001b[0max\u001b[0m\u001b[1;33m.\u001b[0m\u001b[0mlegend_\u001b[0m \u001b[1;33m=\u001b[0m \u001b[1;32mNone\u001b[0m\u001b[1;33m\u001b[0m\u001b[1;33m\u001b[0m\u001b[0m\n\u001b[0;32m   1480\u001b[0m \u001b[1;33m\u001b[0m\u001b[0m\n",
      "\u001b[1;32mC:\\Users\\ds\\anaconda3\\lib\\site-packages\\seaborn\\distributions.py\u001b[0m in \u001b[0;36mhistplot\u001b[1;34m(data, x, y, hue, weights, stat, bins, binwidth, binrange, discrete, cumulative, common_bins, common_norm, multiple, element, fill, shrink, kde, kde_kws, line_kws, thresh, pthresh, pmax, cbar, cbar_ax, cbar_kws, palette, hue_order, hue_norm, color, log_scale, legend, ax, **kwargs)\u001b[0m\n\u001b[0;32m   1460\u001b[0m     \u001b[1;32mif\u001b[0m \u001b[0mp\u001b[0m\u001b[1;33m.\u001b[0m\u001b[0munivariate\u001b[0m\u001b[1;33m:\u001b[0m\u001b[1;33m\u001b[0m\u001b[1;33m\u001b[0m\u001b[0m\n\u001b[0;32m   1461\u001b[0m \u001b[1;33m\u001b[0m\u001b[0m\n\u001b[1;32m-> 1462\u001b[1;33m         p.plot_univariate_histogram(\n\u001b[0m\u001b[0;32m   1463\u001b[0m             \u001b[0mmultiple\u001b[0m\u001b[1;33m=\u001b[0m\u001b[0mmultiple\u001b[0m\u001b[1;33m,\u001b[0m\u001b[1;33m\u001b[0m\u001b[1;33m\u001b[0m\u001b[0m\n\u001b[0;32m   1464\u001b[0m             \u001b[0melement\u001b[0m\u001b[1;33m=\u001b[0m\u001b[0melement\u001b[0m\u001b[1;33m,\u001b[0m\u001b[1;33m\u001b[0m\u001b[1;33m\u001b[0m\u001b[0m\n",
      "\u001b[1;32mC:\\Users\\ds\\anaconda3\\lib\\site-packages\\seaborn\\distributions.py\u001b[0m in \u001b[0;36mplot_univariate_histogram\u001b[1;34m(self, multiple, element, fill, common_norm, common_bins, shrink, kde, kde_kws, color, legend, line_kws, estimate_kws, **plot_kws)\u001b[0m\n\u001b[0;32m    426\u001b[0m \u001b[1;33m\u001b[0m\u001b[0m\n\u001b[0;32m    427\u001b[0m         \u001b[1;31m# First pass through the data to compute the histograms\u001b[0m\u001b[1;33m\u001b[0m\u001b[1;33m\u001b[0m\u001b[0m\n\u001b[1;32m--> 428\u001b[1;33m         \u001b[1;32mfor\u001b[0m \u001b[0msub_vars\u001b[0m\u001b[1;33m,\u001b[0m \u001b[0msub_data\u001b[0m \u001b[1;32min\u001b[0m \u001b[0mself\u001b[0m\u001b[1;33m.\u001b[0m\u001b[0miter_data\u001b[0m\u001b[1;33m(\u001b[0m\u001b[1;34m\"hue\"\u001b[0m\u001b[1;33m,\u001b[0m \u001b[0mfrom_comp_data\u001b[0m\u001b[1;33m=\u001b[0m\u001b[1;32mTrue\u001b[0m\u001b[1;33m)\u001b[0m\u001b[1;33m:\u001b[0m\u001b[1;33m\u001b[0m\u001b[1;33m\u001b[0m\u001b[0m\n\u001b[0m\u001b[0;32m    429\u001b[0m \u001b[1;33m\u001b[0m\u001b[0m\n\u001b[0;32m    430\u001b[0m             \u001b[1;31m# Prepare the relevant data\u001b[0m\u001b[1;33m\u001b[0m\u001b[1;33m\u001b[0m\u001b[0m\n",
      "\u001b[1;32mC:\\Users\\ds\\anaconda3\\lib\\site-packages\\seaborn\\_core.py\u001b[0m in \u001b[0;36miter_data\u001b[1;34m(self, grouping_vars, reverse, from_comp_data)\u001b[0m\n\u001b[0;32m    981\u001b[0m \u001b[1;33m\u001b[0m\u001b[0m\n\u001b[0;32m    982\u001b[0m         \u001b[1;32mif\u001b[0m \u001b[0mfrom_comp_data\u001b[0m\u001b[1;33m:\u001b[0m\u001b[1;33m\u001b[0m\u001b[1;33m\u001b[0m\u001b[0m\n\u001b[1;32m--> 983\u001b[1;33m             \u001b[0mdata\u001b[0m \u001b[1;33m=\u001b[0m \u001b[0mself\u001b[0m\u001b[1;33m.\u001b[0m\u001b[0mcomp_data\u001b[0m\u001b[1;33m\u001b[0m\u001b[1;33m\u001b[0m\u001b[0m\n\u001b[0m\u001b[0;32m    984\u001b[0m         \u001b[1;32melse\u001b[0m\u001b[1;33m:\u001b[0m\u001b[1;33m\u001b[0m\u001b[1;33m\u001b[0m\u001b[0m\n\u001b[0;32m    985\u001b[0m             \u001b[0mdata\u001b[0m \u001b[1;33m=\u001b[0m \u001b[0mself\u001b[0m\u001b[1;33m.\u001b[0m\u001b[0mplot_data\u001b[0m\u001b[1;33m\u001b[0m\u001b[1;33m\u001b[0m\u001b[0m\n",
      "\u001b[1;32mC:\\Users\\ds\\anaconda3\\lib\\site-packages\\seaborn\\_core.py\u001b[0m in \u001b[0;36mcomp_data\u001b[1;34m(self)\u001b[0m\n\u001b[0;32m   1055\u001b[0m                     \u001b[0morig\u001b[0m \u001b[1;33m=\u001b[0m \u001b[0mself\u001b[0m\u001b[1;33m.\u001b[0m\u001b[0mplot_data\u001b[0m\u001b[1;33m[\u001b[0m\u001b[0mvar\u001b[0m\u001b[1;33m]\u001b[0m\u001b[1;33m.\u001b[0m\u001b[0mdropna\u001b[0m\u001b[1;33m(\u001b[0m\u001b[1;33m)\u001b[0m\u001b[1;33m\u001b[0m\u001b[1;33m\u001b[0m\u001b[0m\n\u001b[0;32m   1056\u001b[0m                 \u001b[0mcomp_col\u001b[0m \u001b[1;33m=\u001b[0m \u001b[0mpd\u001b[0m\u001b[1;33m.\u001b[0m\u001b[0mSeries\u001b[0m\u001b[1;33m(\u001b[0m\u001b[0mindex\u001b[0m\u001b[1;33m=\u001b[0m\u001b[0morig\u001b[0m\u001b[1;33m.\u001b[0m\u001b[0mindex\u001b[0m\u001b[1;33m,\u001b[0m \u001b[0mdtype\u001b[0m\u001b[1;33m=\u001b[0m\u001b[0mfloat\u001b[0m\u001b[1;33m,\u001b[0m \u001b[0mname\u001b[0m\u001b[1;33m=\u001b[0m\u001b[0mvar\u001b[0m\u001b[1;33m)\u001b[0m\u001b[1;33m\u001b[0m\u001b[1;33m\u001b[0m\u001b[0m\n\u001b[1;32m-> 1057\u001b[1;33m                 \u001b[0mcomp_col\u001b[0m\u001b[1;33m.\u001b[0m\u001b[0mloc\u001b[0m\u001b[1;33m[\u001b[0m\u001b[0morig\u001b[0m\u001b[1;33m.\u001b[0m\u001b[0mindex\u001b[0m\u001b[1;33m]\u001b[0m \u001b[1;33m=\u001b[0m \u001b[0mpd\u001b[0m\u001b[1;33m.\u001b[0m\u001b[0mto_numeric\u001b[0m\u001b[1;33m(\u001b[0m\u001b[0maxis\u001b[0m\u001b[1;33m.\u001b[0m\u001b[0mconvert_units\u001b[0m\u001b[1;33m(\u001b[0m\u001b[0morig\u001b[0m\u001b[1;33m)\u001b[0m\u001b[1;33m)\u001b[0m\u001b[1;33m\u001b[0m\u001b[1;33m\u001b[0m\u001b[0m\n\u001b[0m\u001b[0;32m   1058\u001b[0m \u001b[1;33m\u001b[0m\u001b[0m\n\u001b[0;32m   1059\u001b[0m                 \u001b[1;32mif\u001b[0m \u001b[0maxis\u001b[0m\u001b[1;33m.\u001b[0m\u001b[0mget_scale\u001b[0m\u001b[1;33m(\u001b[0m\u001b[1;33m)\u001b[0m \u001b[1;33m==\u001b[0m \u001b[1;34m\"log\"\u001b[0m\u001b[1;33m:\u001b[0m\u001b[1;33m\u001b[0m\u001b[1;33m\u001b[0m\u001b[0m\n",
      "\u001b[1;32mC:\\Users\\ds\\anaconda3\\lib\\site-packages\\pandas\\core\\indexing.py\u001b[0m in \u001b[0;36m__setitem__\u001b[1;34m(self, key, value)\u001b[0m\n\u001b[0;32m    714\u001b[0m \u001b[1;33m\u001b[0m\u001b[0m\n\u001b[0;32m    715\u001b[0m         \u001b[0miloc\u001b[0m \u001b[1;33m=\u001b[0m \u001b[0mself\u001b[0m \u001b[1;32mif\u001b[0m \u001b[0mself\u001b[0m\u001b[1;33m.\u001b[0m\u001b[0mname\u001b[0m \u001b[1;33m==\u001b[0m \u001b[1;34m\"iloc\"\u001b[0m \u001b[1;32melse\u001b[0m \u001b[0mself\u001b[0m\u001b[1;33m.\u001b[0m\u001b[0mobj\u001b[0m\u001b[1;33m.\u001b[0m\u001b[0miloc\u001b[0m\u001b[1;33m\u001b[0m\u001b[1;33m\u001b[0m\u001b[0m\n\u001b[1;32m--> 716\u001b[1;33m         \u001b[0miloc\u001b[0m\u001b[1;33m.\u001b[0m\u001b[0m_setitem_with_indexer\u001b[0m\u001b[1;33m(\u001b[0m\u001b[0mindexer\u001b[0m\u001b[1;33m,\u001b[0m \u001b[0mvalue\u001b[0m\u001b[1;33m,\u001b[0m \u001b[0mself\u001b[0m\u001b[1;33m.\u001b[0m\u001b[0mname\u001b[0m\u001b[1;33m)\u001b[0m\u001b[1;33m\u001b[0m\u001b[1;33m\u001b[0m\u001b[0m\n\u001b[0m\u001b[0;32m    717\u001b[0m \u001b[1;33m\u001b[0m\u001b[0m\n\u001b[0;32m    718\u001b[0m     \u001b[1;32mdef\u001b[0m \u001b[0m_validate_key\u001b[0m\u001b[1;33m(\u001b[0m\u001b[0mself\u001b[0m\u001b[1;33m,\u001b[0m \u001b[0mkey\u001b[0m\u001b[1;33m,\u001b[0m \u001b[0maxis\u001b[0m\u001b[1;33m:\u001b[0m \u001b[0mint\u001b[0m\u001b[1;33m)\u001b[0m\u001b[1;33m:\u001b[0m\u001b[1;33m\u001b[0m\u001b[1;33m\u001b[0m\u001b[0m\n",
      "\u001b[1;32mC:\\Users\\ds\\anaconda3\\lib\\site-packages\\pandas\\core\\indexing.py\u001b[0m in \u001b[0;36m_setitem_with_indexer\u001b[1;34m(self, indexer, value, name)\u001b[0m\n\u001b[0;32m   1691\u001b[0m             \u001b[0mself\u001b[0m\u001b[1;33m.\u001b[0m\u001b[0m_setitem_with_indexer_split_path\u001b[0m\u001b[1;33m(\u001b[0m\u001b[0mindexer\u001b[0m\u001b[1;33m,\u001b[0m \u001b[0mvalue\u001b[0m\u001b[1;33m,\u001b[0m \u001b[0mname\u001b[0m\u001b[1;33m)\u001b[0m\u001b[1;33m\u001b[0m\u001b[1;33m\u001b[0m\u001b[0m\n\u001b[0;32m   1692\u001b[0m         \u001b[1;32melse\u001b[0m\u001b[1;33m:\u001b[0m\u001b[1;33m\u001b[0m\u001b[1;33m\u001b[0m\u001b[0m\n\u001b[1;32m-> 1693\u001b[1;33m             \u001b[0mself\u001b[0m\u001b[1;33m.\u001b[0m\u001b[0m_setitem_single_block\u001b[0m\u001b[1;33m(\u001b[0m\u001b[0mindexer\u001b[0m\u001b[1;33m,\u001b[0m \u001b[0mvalue\u001b[0m\u001b[1;33m,\u001b[0m \u001b[0mname\u001b[0m\u001b[1;33m)\u001b[0m\u001b[1;33m\u001b[0m\u001b[1;33m\u001b[0m\u001b[0m\n\u001b[0m\u001b[0;32m   1694\u001b[0m \u001b[1;33m\u001b[0m\u001b[0m\n\u001b[0;32m   1695\u001b[0m     \u001b[1;32mdef\u001b[0m \u001b[0m_setitem_with_indexer_split_path\u001b[0m\u001b[1;33m(\u001b[0m\u001b[0mself\u001b[0m\u001b[1;33m,\u001b[0m \u001b[0mindexer\u001b[0m\u001b[1;33m,\u001b[0m \u001b[0mvalue\u001b[0m\u001b[1;33m,\u001b[0m \u001b[0mname\u001b[0m\u001b[1;33m:\u001b[0m \u001b[0mstr\u001b[0m\u001b[1;33m)\u001b[0m\u001b[1;33m:\u001b[0m\u001b[1;33m\u001b[0m\u001b[1;33m\u001b[0m\u001b[0m\n",
      "\u001b[1;32mC:\\Users\\ds\\anaconda3\\lib\\site-packages\\pandas\\core\\indexing.py\u001b[0m in \u001b[0;36m_setitem_single_block\u001b[1;34m(self, indexer, value, name)\u001b[0m\n\u001b[0;32m   1932\u001b[0m             \u001b[1;31m# setting for extensionarrays that store dicts. Need to decide\u001b[0m\u001b[1;33m\u001b[0m\u001b[1;33m\u001b[0m\u001b[0m\n\u001b[0;32m   1933\u001b[0m             \u001b[1;31m# if it's worth supporting that.\u001b[0m\u001b[1;33m\u001b[0m\u001b[1;33m\u001b[0m\u001b[0m\n\u001b[1;32m-> 1934\u001b[1;33m             \u001b[0mvalue\u001b[0m \u001b[1;33m=\u001b[0m \u001b[0mself\u001b[0m\u001b[1;33m.\u001b[0m\u001b[0m_align_series\u001b[0m\u001b[1;33m(\u001b[0m\u001b[0mindexer\u001b[0m\u001b[1;33m,\u001b[0m \u001b[0mSeries\u001b[0m\u001b[1;33m(\u001b[0m\u001b[0mvalue\u001b[0m\u001b[1;33m)\u001b[0m\u001b[1;33m)\u001b[0m\u001b[1;33m\u001b[0m\u001b[1;33m\u001b[0m\u001b[0m\n\u001b[0m\u001b[0;32m   1935\u001b[0m \u001b[1;33m\u001b[0m\u001b[0m\n\u001b[0;32m   1936\u001b[0m         \u001b[1;32melif\u001b[0m \u001b[0misinstance\u001b[0m\u001b[1;33m(\u001b[0m\u001b[0mvalue\u001b[0m\u001b[1;33m,\u001b[0m \u001b[0mABCDataFrame\u001b[0m\u001b[1;33m)\u001b[0m \u001b[1;32mand\u001b[0m \u001b[0mname\u001b[0m \u001b[1;33m!=\u001b[0m \u001b[1;34m\"iloc\"\u001b[0m\u001b[1;33m:\u001b[0m\u001b[1;33m\u001b[0m\u001b[1;33m\u001b[0m\u001b[0m\n",
      "\u001b[1;32mC:\\Users\\ds\\anaconda3\\lib\\site-packages\\pandas\\core\\indexing.py\u001b[0m in \u001b[0;36m_align_series\u001b[1;34m(self, indexer, ser, multiindex_indexer)\u001b[0m\n\u001b[0;32m   2094\u001b[0m                 \u001b[1;32mif\u001b[0m \u001b[0mobj\u001b[0m\u001b[1;33m.\u001b[0m\u001b[0mndim\u001b[0m \u001b[1;33m==\u001b[0m \u001b[1;36m2\u001b[0m \u001b[1;32mand\u001b[0m \u001b[0mis_empty_indexer\u001b[0m\u001b[1;33m(\u001b[0m\u001b[0mindexer\u001b[0m\u001b[1;33m[\u001b[0m\u001b[1;36m0\u001b[0m\u001b[1;33m]\u001b[0m\u001b[1;33m,\u001b[0m \u001b[0mser\u001b[0m\u001b[1;33m.\u001b[0m\u001b[0m_values\u001b[0m\u001b[1;33m)\u001b[0m\u001b[1;33m:\u001b[0m\u001b[1;33m\u001b[0m\u001b[1;33m\u001b[0m\u001b[0m\n\u001b[0;32m   2095\u001b[0m                     \u001b[1;32mreturn\u001b[0m \u001b[0mser\u001b[0m\u001b[1;33m.\u001b[0m\u001b[0m_values\u001b[0m\u001b[1;33m.\u001b[0m\u001b[0mcopy\u001b[0m\u001b[1;33m(\u001b[0m\u001b[1;33m)\u001b[0m\u001b[1;33m\u001b[0m\u001b[1;33m\u001b[0m\u001b[0m\n\u001b[1;32m-> 2096\u001b[1;33m                 \u001b[0mser\u001b[0m \u001b[1;33m=\u001b[0m \u001b[0mser\u001b[0m\u001b[1;33m.\u001b[0m\u001b[0mreindex\u001b[0m\u001b[1;33m(\u001b[0m\u001b[0mobj\u001b[0m\u001b[1;33m.\u001b[0m\u001b[0maxes\u001b[0m\u001b[1;33m[\u001b[0m\u001b[1;36m0\u001b[0m\u001b[1;33m]\u001b[0m\u001b[1;33m[\u001b[0m\u001b[0mindexer\u001b[0m\u001b[1;33m[\u001b[0m\u001b[1;36m0\u001b[0m\u001b[1;33m]\u001b[0m\u001b[1;33m]\u001b[0m\u001b[1;33m,\u001b[0m \u001b[0mcopy\u001b[0m\u001b[1;33m=\u001b[0m\u001b[1;32mTrue\u001b[0m\u001b[1;33m)\u001b[0m\u001b[1;33m.\u001b[0m\u001b[0m_values\u001b[0m\u001b[1;33m\u001b[0m\u001b[1;33m\u001b[0m\u001b[0m\n\u001b[0m\u001b[0;32m   2097\u001b[0m \u001b[1;33m\u001b[0m\u001b[0m\n\u001b[0;32m   2098\u001b[0m                 \u001b[1;31m# single indexer\u001b[0m\u001b[1;33m\u001b[0m\u001b[1;33m\u001b[0m\u001b[0m\n",
      "\u001b[1;32mC:\\Users\\ds\\anaconda3\\lib\\site-packages\\pandas\\core\\series.py\u001b[0m in \u001b[0;36mreindex\u001b[1;34m(self, *args, **kwargs)\u001b[0m\n\u001b[0;32m   4670\u001b[0m                 )\n\u001b[0;32m   4671\u001b[0m             \u001b[0mkwargs\u001b[0m\u001b[1;33m.\u001b[0m\u001b[0mupdate\u001b[0m\u001b[1;33m(\u001b[0m\u001b[1;33m{\u001b[0m\u001b[1;34m\"index\"\u001b[0m\u001b[1;33m:\u001b[0m \u001b[0mindex\u001b[0m\u001b[1;33m}\u001b[0m\u001b[1;33m)\u001b[0m\u001b[1;33m\u001b[0m\u001b[1;33m\u001b[0m\u001b[0m\n\u001b[1;32m-> 4672\u001b[1;33m         \u001b[1;32mreturn\u001b[0m \u001b[0msuper\u001b[0m\u001b[1;33m(\u001b[0m\u001b[1;33m)\u001b[0m\u001b[1;33m.\u001b[0m\u001b[0mreindex\u001b[0m\u001b[1;33m(\u001b[0m\u001b[1;33m**\u001b[0m\u001b[0mkwargs\u001b[0m\u001b[1;33m)\u001b[0m\u001b[1;33m\u001b[0m\u001b[1;33m\u001b[0m\u001b[0m\n\u001b[0m\u001b[0;32m   4673\u001b[0m \u001b[1;33m\u001b[0m\u001b[0m\n\u001b[0;32m   4674\u001b[0m     \u001b[1;33m@\u001b[0m\u001b[0mdeprecate_nonkeyword_arguments\u001b[0m\u001b[1;33m(\u001b[0m\u001b[0mversion\u001b[0m\u001b[1;33m=\u001b[0m\u001b[1;32mNone\u001b[0m\u001b[1;33m,\u001b[0m \u001b[0mallowed_args\u001b[0m\u001b[1;33m=\u001b[0m\u001b[1;33m[\u001b[0m\u001b[1;34m\"self\"\u001b[0m\u001b[1;33m,\u001b[0m \u001b[1;34m\"labels\"\u001b[0m\u001b[1;33m]\u001b[0m\u001b[1;33m)\u001b[0m\u001b[1;33m\u001b[0m\u001b[1;33m\u001b[0m\u001b[0m\n",
      "\u001b[1;32mC:\\Users\\ds\\anaconda3\\lib\\site-packages\\pandas\\core\\generic.py\u001b[0m in \u001b[0;36mreindex\u001b[1;34m(self, *args, **kwargs)\u001b[0m\n\u001b[0;32m   4964\u001b[0m \u001b[1;33m\u001b[0m\u001b[0m\n\u001b[0;32m   4965\u001b[0m         \u001b[1;31m# perform the reindex on the axes\u001b[0m\u001b[1;33m\u001b[0m\u001b[1;33m\u001b[0m\u001b[0m\n\u001b[1;32m-> 4966\u001b[1;33m         return self._reindex_axes(\n\u001b[0m\u001b[0;32m   4967\u001b[0m             \u001b[0maxes\u001b[0m\u001b[1;33m,\u001b[0m \u001b[0mlevel\u001b[0m\u001b[1;33m,\u001b[0m \u001b[0mlimit\u001b[0m\u001b[1;33m,\u001b[0m \u001b[0mtolerance\u001b[0m\u001b[1;33m,\u001b[0m \u001b[0mmethod\u001b[0m\u001b[1;33m,\u001b[0m \u001b[0mfill_value\u001b[0m\u001b[1;33m,\u001b[0m \u001b[0mcopy\u001b[0m\u001b[1;33m\u001b[0m\u001b[1;33m\u001b[0m\u001b[0m\n\u001b[0;32m   4968\u001b[0m         ).__finalize__(self, method=\"reindex\")\n",
      "\u001b[1;32mC:\\Users\\ds\\anaconda3\\lib\\site-packages\\pandas\\core\\generic.py\u001b[0m in \u001b[0;36m_reindex_axes\u001b[1;34m(self, axes, level, limit, tolerance, method, fill_value, copy)\u001b[0m\n\u001b[0;32m   4984\u001b[0m \u001b[1;33m\u001b[0m\u001b[0m\n\u001b[0;32m   4985\u001b[0m             \u001b[0maxis\u001b[0m \u001b[1;33m=\u001b[0m \u001b[0mself\u001b[0m\u001b[1;33m.\u001b[0m\u001b[0m_get_axis_number\u001b[0m\u001b[1;33m(\u001b[0m\u001b[0ma\u001b[0m\u001b[1;33m)\u001b[0m\u001b[1;33m\u001b[0m\u001b[1;33m\u001b[0m\u001b[0m\n\u001b[1;32m-> 4986\u001b[1;33m             obj = obj._reindex_with_indexers(\n\u001b[0m\u001b[0;32m   4987\u001b[0m                 \u001b[1;33m{\u001b[0m\u001b[0maxis\u001b[0m\u001b[1;33m:\u001b[0m \u001b[1;33m[\u001b[0m\u001b[0mnew_index\u001b[0m\u001b[1;33m,\u001b[0m \u001b[0mindexer\u001b[0m\u001b[1;33m]\u001b[0m\u001b[1;33m}\u001b[0m\u001b[1;33m,\u001b[0m\u001b[1;33m\u001b[0m\u001b[1;33m\u001b[0m\u001b[0m\n\u001b[0;32m   4988\u001b[0m                 \u001b[0mfill_value\u001b[0m\u001b[1;33m=\u001b[0m\u001b[0mfill_value\u001b[0m\u001b[1;33m,\u001b[0m\u001b[1;33m\u001b[0m\u001b[1;33m\u001b[0m\u001b[0m\n",
      "\u001b[1;32mC:\\Users\\ds\\anaconda3\\lib\\site-packages\\pandas\\core\\generic.py\u001b[0m in \u001b[0;36m_reindex_with_indexers\u001b[1;34m(self, reindexers, fill_value, copy, allow_dups)\u001b[0m\n\u001b[0;32m   5030\u001b[0m \u001b[1;33m\u001b[0m\u001b[0m\n\u001b[0;32m   5031\u001b[0m             \u001b[1;31m# TODO: speed up on homogeneous DataFrame objects (see _reindex_multi)\u001b[0m\u001b[1;33m\u001b[0m\u001b[1;33m\u001b[0m\u001b[0m\n\u001b[1;32m-> 5032\u001b[1;33m             new_data = new_data.reindex_indexer(\n\u001b[0m\u001b[0;32m   5033\u001b[0m                 \u001b[0mindex\u001b[0m\u001b[1;33m,\u001b[0m\u001b[1;33m\u001b[0m\u001b[1;33m\u001b[0m\u001b[0m\n\u001b[0;32m   5034\u001b[0m                 \u001b[0mindexer\u001b[0m\u001b[1;33m,\u001b[0m\u001b[1;33m\u001b[0m\u001b[1;33m\u001b[0m\u001b[0m\n",
      "\u001b[1;32mC:\\Users\\ds\\anaconda3\\lib\\site-packages\\pandas\\core\\internals\\managers.py\u001b[0m in \u001b[0;36mreindex_indexer\u001b[1;34m(self, new_axis, indexer, axis, fill_value, allow_dups, copy, consolidate, only_slice, use_na_proxy)\u001b[0m\n\u001b[0;32m    674\u001b[0m         \u001b[1;31m# some axes don't allow reindexing with dups\u001b[0m\u001b[1;33m\u001b[0m\u001b[1;33m\u001b[0m\u001b[0m\n\u001b[0;32m    675\u001b[0m         \u001b[1;32mif\u001b[0m \u001b[1;32mnot\u001b[0m \u001b[0mallow_dups\u001b[0m\u001b[1;33m:\u001b[0m\u001b[1;33m\u001b[0m\u001b[1;33m\u001b[0m\u001b[0m\n\u001b[1;32m--> 676\u001b[1;33m             \u001b[0mself\u001b[0m\u001b[1;33m.\u001b[0m\u001b[0maxes\u001b[0m\u001b[1;33m[\u001b[0m\u001b[0maxis\u001b[0m\u001b[1;33m]\u001b[0m\u001b[1;33m.\u001b[0m\u001b[0m_validate_can_reindex\u001b[0m\u001b[1;33m(\u001b[0m\u001b[0mindexer\u001b[0m\u001b[1;33m)\u001b[0m\u001b[1;33m\u001b[0m\u001b[1;33m\u001b[0m\u001b[0m\n\u001b[0m\u001b[0;32m    677\u001b[0m \u001b[1;33m\u001b[0m\u001b[0m\n\u001b[0;32m    678\u001b[0m         \u001b[1;32mif\u001b[0m \u001b[0maxis\u001b[0m \u001b[1;33m>=\u001b[0m \u001b[0mself\u001b[0m\u001b[1;33m.\u001b[0m\u001b[0mndim\u001b[0m\u001b[1;33m:\u001b[0m\u001b[1;33m\u001b[0m\u001b[1;33m\u001b[0m\u001b[0m\n",
      "\u001b[1;32mC:\\Users\\ds\\anaconda3\\lib\\site-packages\\pandas\\core\\indexes\\base.py\u001b[0m in \u001b[0;36m_validate_can_reindex\u001b[1;34m(self, indexer)\u001b[0m\n\u001b[0;32m   4119\u001b[0m         \u001b[1;31m# trying to reindex on an axis with duplicates\u001b[0m\u001b[1;33m\u001b[0m\u001b[1;33m\u001b[0m\u001b[0m\n\u001b[0;32m   4120\u001b[0m         \u001b[1;32mif\u001b[0m \u001b[1;32mnot\u001b[0m \u001b[0mself\u001b[0m\u001b[1;33m.\u001b[0m\u001b[0m_index_as_unique\u001b[0m \u001b[1;32mand\u001b[0m \u001b[0mlen\u001b[0m\u001b[1;33m(\u001b[0m\u001b[0mindexer\u001b[0m\u001b[1;33m)\u001b[0m\u001b[1;33m:\u001b[0m\u001b[1;33m\u001b[0m\u001b[1;33m\u001b[0m\u001b[0m\n\u001b[1;32m-> 4121\u001b[1;33m             \u001b[1;32mraise\u001b[0m \u001b[0mValueError\u001b[0m\u001b[1;33m(\u001b[0m\u001b[1;34m\"cannot reindex on an axis with duplicate labels\"\u001b[0m\u001b[1;33m)\u001b[0m\u001b[1;33m\u001b[0m\u001b[1;33m\u001b[0m\u001b[0m\n\u001b[0m\u001b[0;32m   4122\u001b[0m \u001b[1;33m\u001b[0m\u001b[0m\n\u001b[0;32m   4123\u001b[0m     def reindex(\n",
      "\u001b[1;31mValueError\u001b[0m: cannot reindex on an axis with duplicate labels"
     ]
    },
    {
     "data": {
      "image/png": "[encoded data removed]",
      "text/plain": [
       "<Figure size 1260x1260 with 56 Axes>"
      ]
     },
     "metadata": {
      "needs_background": "light"
     },
     "output_type": "display_data"
    }
   ],
   "source": [
    "sns.pairplot(df)"
   ]
  },
  {
   "cell_type": "code",
   "execution_count": null,
   "id": "644b92af",
   "metadata": {
    "scrolled": true
   },
   "outputs": [],
   "source": [
    "plt.boxplot(df['Fresh'], vert=False, patch_artist=True, notch = True)\n",
    "plt.show()"
   ]
  },
  {
   "cell_type": "code",
   "execution_count": null,
   "id": "8401b2b7-891d-47ff-8df6-8f5037366e3b",
   "metadata": {},
   "outputs": [],
   "source": [
    "sns.boxplot(x = df['Fresh'])"
   ]
  },
  {
   "cell_type": "code",
   "execution_count": null,
   "id": "fb00892c",
   "metadata": {},
   "outputs": [],
   "source": [
    "df"
   ]
  },
  {
   "cell_type": "markdown",
   "id": "1391294e",
   "metadata": {},
   "source": [
    "# 3. Feature scaling"
   ]
  },
  {
   "cell_type": "code",
   "execution_count": 19,
   "id": "ca9ed5af",
   "metadata": {
    "ExecuteTime": {
     "end_time": "2023-10-21T07:04:28.102373Z",
     "start_time": "2023-10-21T07:04:27.727706Z"
    }
   },
   "outputs": [],
   "source": [
    "\n",
    "from sklearn.preprocessing import StandardScaler"
   ]
  },
  {
   "cell_type": "code",
   "execution_count": 20,
   "id": "e845de90",
   "metadata": {
    "ExecuteTime": {
     "end_time": "2023-10-21T07:04:30.059148Z",
     "start_time": "2023-10-21T07:04:30.031520Z"
    },
    "scrolled": true
   },
   "outputs": [
    {
     "data": {
      "text/plain": [
       "array([[ 0.59066829,  0.05293319,  0.52356777, ..., -0.58936716,\n",
       "        -0.04356873, -0.06633906],\n",
       "       [ 0.59066829, -0.39130197,  0.54445767, ..., -0.27013618,\n",
       "         0.08640684,  0.08915105],\n",
       "       [ 0.59066829, -0.44702926,  0.40853771, ..., -0.13753572,\n",
       "         0.13323164,  2.24329255],\n",
       "       ...,\n",
       "       [ 0.59066829,  0.20032554,  1.31467078, ..., -0.54337975,\n",
       "         2.51121768,  0.12145607],\n",
       "       [ 0.59066829, -0.13538389, -0.51753572, ..., -0.41944059,\n",
       "        -0.56977032,  0.21304614],\n",
       "       [ 0.59066829, -0.72930698, -0.5559243 , ..., -0.62009417,\n",
       "        -0.50488752, -0.52286938]])"
      ]
     },
     "execution_count": 20,
     "metadata": {},
     "output_type": "execute_result"
    }
   ],
   "source": [
    "sc = StandardScaler()\n",
    "\n",
    "x = sc.fit_transform(df)\n",
    "x"
   ]
  },
  {
   "cell_type": "markdown",
   "id": "5380d1c0",
   "metadata": {},
   "source": [
    "# 4 Model Building-Outlier Detection"
   ]
  },
  {
   "cell_type": "code",
   "execution_count": 21,
   "id": "191e789f",
   "metadata": {
    "ExecuteTime": {
     "end_time": "2023-10-21T07:04:47.624729Z",
     "start_time": "2023-10-21T07:04:47.055114Z"
    }
   },
   "outputs": [],
   "source": [
    "from sklearn.cluster import DBSCAN  "
   ]
  },
  {
   "cell_type": "code",
   "execution_count": 24,
   "id": "f6687e46",
   "metadata": {
    "ExecuteTime": {
     "end_time": "2023-10-21T07:06:05.276919Z",
     "start_time": "2023-10-21T07:06:05.237178Z"
    }
   },
   "outputs": [
    {
     "data": {
      "text/plain": [
       "array([ 0,  1, -1,  2, -1,  0,  2,  3,  2, -1, -1,  2, -1, -1, -1,  2,  3,\n",
       "       16,  0,  2,  0,  2, -1, -1, -1,  2,  2,  2, -1,  4,  0,  2,  2, -1,\n",
       "        2,  3, -1, -1, -1, -1, -1,  0, -1, -1, -1, -1, -1, -1, -1, -1,  2,\n",
       "        2, -1,  3,  2,  2, -1,  3,  2,  3,  2, -1, -1,  5,  2, -1,  6, -1,\n",
       "       -1,  2, -1, -1, -1, -1,  3,  2, -1, -1,  2,  2,  2,  3,  1,  2,  2,\n",
       "       -1, -1, -1,  2, -1,  2,  2, -1, -1,  3,  2,  6,  2,  2,  2, -1, -1,\n",
       "        3, -1,  2,  2,  3,  5,  2, -1,  2, -1, -1,  2,  2,  2,  2,  2,  2,\n",
       "        2,  2,  2,  2, -1,  7, -1,  2,  0, -1,  4,  2,  2,  2,  2,  2,  2,\n",
       "       -1,  2, -1,  2,  0, -1, -1,  2,  2, -1,  2,  2,  2,  2,  2,  2,  2,\n",
       "       -1,  2, -1, -1,  2,  3,  3,  3,  2,  2, -1, -1, -1,  3,  2,  2,  2,\n",
       "        3, -1,  2, -1,  2,  3, -1, -1, -1, -1,  0, -1,  3, -1,  2, -1,  2,\n",
       "       -1, -1,  3, -1,  2,  2, -1,  2, -1, -1,  8, -1,  9, -1, -1, -1,  9,\n",
       "        9, -1,  9, -1,  8, -1,  9, -1,  9,  8,  8, -1, -1,  9, -1,  9,  9,\n",
       "       -1, 10, -1,  9,  9, -1,  9, -1, 10, -1, -1, 11, -1, -1, -1,  9, -1,\n",
       "        9, -1, -1, 11,  9, -1,  8, -1,  9,  9,  9, 10,  9, -1, 10, -1, -1,\n",
       "       -1,  9, -1, -1, -1,  9, 10, 11, -1, -1, -1, -1, -1, -1,  9, 10, -1,\n",
       "       -1,  7,  2,  2, -1, -1,  2,  2,  2,  0, -1, 17, -1,  4,  2,  2,  2,\n",
       "        4,  2,  2,  2, -1, -1, 13, 12, 13, 13, 14, -1, -1, -1, -1, -1, -1,\n",
       "       -1, 12, 15, -1, -1, -1, -1, 15, 15, -1, 15, -1, -1, -1, 14, 15, 12,\n",
       "       -1, -1, -1, 15, 14, -1, 15, 15, -1, -1, -1, -1, -1, 12, -1, -1, -1,\n",
       "        3,  3,  2, -1,  2,  6, -1, -1,  2, -1,  2, -1,  2, -1, -1,  2,  2,\n",
       "       -1, -1,  2,  2,  2,  2,  2,  2,  3,  2,  2,  2,  2,  4,  2, 16,  0,\n",
       "        2,  2, -1,  4,  2,  2,  2, -1, -1,  2, -1,  2,  2,  2,  2,  2,  2,\n",
       "        2,  2, 17,  2,  2,  1,  2,  2,  2,  2, -1, -1, -1,  2,  2, 17,  5,\n",
       "        2, -1,  2, 16,  3, -1,  2,  3,  3,  3, -1,  2,  3,  2,  2,  2, -1,\n",
       "       -1, -1, -1,  2,  2, -1, -1,  2,  2,  2, -1,  7, -1,  2,  2],\n",
       "      dtype=int64)"
      ]
     },
     "execution_count": 24,
     "metadata": {},
     "output_type": "execute_result"
    }
   ],
   "source": [
    "db = DBSCAN(eps=0.5, min_samples=3)\n",
    "\n",
    "y = db.fit_predict(x)\n",
    "y"
   ]
  },
  {
   "cell_type": "code",
   "execution_count": 54,
   "id": "062f0731",
   "metadata": {},
   "outputs": [
    {
     "data": {
      "text/plain": [
       "array([[ 0.59066829,  0.05293319,  0.52356777, ..., -0.58936716,\n",
       "        -0.04356873, -0.06633906],\n",
       "       [ 0.59066829, -0.39130197,  0.54445767, ..., -0.27013618,\n",
       "         0.08640684,  0.08915105],\n",
       "       [ 0.59066829, -0.44702926,  0.40853771, ..., -0.13753572,\n",
       "         0.13323164,  2.24329255],\n",
       "       ...,\n",
       "       [ 0.59066829,  0.20032554,  1.31467078, ..., -0.54337975,\n",
       "         2.51121768,  0.12145607],\n",
       "       [ 0.59066829, -0.13538389, -0.51753572, ..., -0.41944059,\n",
       "        -0.56977032,  0.21304614],\n",
       "       [ 0.59066829, -0.72930698, -0.5559243 , ..., -0.62009417,\n",
       "        -0.50488752, -0.52286938]])"
      ]
     },
     "execution_count": 54,
     "metadata": {},
     "output_type": "execute_result"
    }
   ],
   "source": [
    "x"
   ]
  },
  {
   "cell_type": "code",
   "execution_count": 55,
   "id": "29205f3c",
   "metadata": {
    "ExecuteTime": {
     "end_time": "2023-10-21T07:09:47.742754Z",
     "start_time": "2023-10-21T07:09:47.365881Z"
    }
   },
   "outputs": [
    {
     "data": {
      "text/plain": [
       "<matplotlib.collections.PathCollection at 0x2430248a2b0>"
      ]
     },
     "execution_count": 55,
     "metadata": {},
     "output_type": "execute_result"
    },
    {
     "data": {
      "image/png": "[encoded data removed]",
      "text/plain": [
       "<Figure size 432x288 with 1 Axes>"
      ]
     },
     "metadata": {
      "needs_background": "light"
     },
     "output_type": "display_data"
    }
   ],
   "source": [
    "plt.scatter(x[:,0],x[:,4],c = y,cmap = 'rainbow')"
   ]
  },
  {
   "cell_type": "code",
   "execution_count": 26,
   "id": "25ecb52e",
   "metadata": {
    "ExecuteTime": {
     "end_time": "2023-10-21T07:10:16.719487Z",
     "start_time": "2023-10-21T07:10:16.704252Z"
    }
   },
   "outputs": [],
   "source": [
    "from sklearn.metrics import silhouette_score"
   ]
  },
  {
   "cell_type": "markdown",
   "id": "bfd8a7e3",
   "metadata": {},
   "source": [
    "# Hyperparameter tuning"
   ]
  },
  {
   "cell_type": "markdown",
   "id": "333fa6f1",
   "metadata": {},
   "source": [
    "# Selecting Min_samples:\n",
    "1. Number of columns + 1\n",
    "2. Number of columns * 2\n",
    "3. Always keep min_sample at least 3"
   ]
  },
  {
   "cell_type": "markdown",
   "id": "eb5f3e85",
   "metadata": {},
   "source": [
    "# Finding out the best eps value(K-dist Plot)\n",
    "- This technique calculates the average distance between each point and its k nearest neighbors, where k is the MinPts value you selected. \n",
    "- The average k-distances are then plotted in ascending order on a k-distance graph. You’ll find the optimal value for ε at the point of maximum curvature (i.e. where the graph has the greatest slope).\n",
    "\n",
    "\n",
    "1. Choose k: Set  𝑘\n",
    "k to be the minimum number of points required to form a dense region. A common choice is 𝑘 = MinPoints\n",
    "minPts is the minimum number of points parameter in DBSCAN.\n",
    "\n",
    "2. Compute k-Nearest Neighbors distances: For each point in the dataset, compute the distance to its k-th nearest neighbor.\n",
    "\n",
    "3. Sort and plot distances: Sort these distances in ascending order and plot them. The optimal 𝜖 is typically at the \"elbow\" of this plot, where the distance starts to increase significantly."
   ]
  },
  {
   "cell_type": "code",
   "execution_count": 32,
   "id": "b4863d63",
   "metadata": {
    "ExecuteTime": {
     "end_time": "2023-10-21T07:16:37.762082Z",
     "start_time": "2023-10-21T07:16:37.749524Z"
    }
   },
   "outputs": [],
   "source": [
    "from sklearn.neighbors import NearestNeighbors"
   ]
  },
  {
   "cell_type": "code",
   "execution_count": 33,
   "id": "078ff003",
   "metadata": {
    "ExecuteTime": {
     "end_time": "2023-10-21T07:16:37.962620Z",
     "start_time": "2023-10-21T07:16:37.953181Z"
    }
   },
   "outputs": [],
   "source": [
    "neigh = NearestNeighbors(n_neighbors=3).fit(x)"
   ]
  },
  {
   "cell_type": "code",
   "execution_count": 34,
   "id": "69b042fc",
   "metadata": {
    "scrolled": true
   },
   "outputs": [
    {
     "data": {
      "text/plain": [
       "(array([[0.        , 0.46098501, 0.49746796],\n",
       "        [0.        , 0.43048153, 0.43131993],\n",
       "        [0.        , 1.2507466 , 1.53289789],\n",
       "        ...,\n",
       "        [0.        , 0.81088341, 1.05002533],\n",
       "        [0.        , 0.31430896, 0.33460941],\n",
       "        [0.        , 0.1811683 , 0.26121553]]),\n",
       " array([[  0,   5, 281],\n",
       "        [  1,  82, 396],\n",
       "        [  2, 409,  17],\n",
       "        ...,\n",
       "        [437,  77, 163],\n",
       "        [438, 429, 161],\n",
       "        [439,  34, 355]], dtype=int64))"
      ]
     },
     "execution_count": 34,
     "metadata": {},
     "output_type": "execute_result"
    }
   ],
   "source": [
    "neigh.kneighbors(x)"
   ]
  },
  {
   "cell_type": "code",
   "execution_count": 35,
   "id": "9a2425be",
   "metadata": {
    "ExecuteTime": {
     "end_time": "2023-10-21T07:24:32.463848Z",
     "start_time": "2023-10-21T07:24:32.448667Z"
    }
   },
   "outputs": [],
   "source": [
    "d,index = neigh.kneighbors(x)"
   ]
  },
  {
   "cell_type": "code",
   "execution_count": 36,
   "id": "6a513042",
   "metadata": {
    "ExecuteTime": {
     "end_time": "2023-10-21T07:24:35.564172Z",
     "start_time": "2023-10-21T07:24:35.540533Z"
    }
   },
   "outputs": [
    {
     "data": {
      "text/plain": [
       "array([[0.        , 0.46098501, 0.49746796],\n",
       "       [0.        , 0.43048153, 0.43131993],\n",
       "       [0.        , 1.2507466 , 1.53289789],\n",
       "       ...,\n",
       "       [0.        , 0.81088341, 1.05002533],\n",
       "       [0.        , 0.31430896, 0.33460941],\n",
       "       [0.        , 0.1811683 , 0.26121553]])"
      ]
     },
     "execution_count": 36,
     "metadata": {},
     "output_type": "execute_result"
    }
   ],
   "source": [
    "d"
   ]
  },
  {
   "cell_type": "code",
   "execution_count": 37,
   "id": "3b938791",
   "metadata": {
    "scrolled": true
   },
   "outputs": [
    {
     "data": {
      "text/plain": [
       "array([ 0.46098501,  0.43048153,  1.2507466 ,  0.32193368,  0.81980385,\n",
       "        0.39751095,  0.34271218,  0.30537987,  0.24101484,  0.49473973,\n",
       "        0.55646534,  0.17770256,  0.77328812,  0.54828334,  0.74054188,\n",
       "        0.28672635,  0.28556562,  0.40142637,  0.41860312,  0.4143153 ,\n",
       "        0.42189667,  0.20790424,  0.89470417,  4.62909095,  1.11479524,\n",
       "        0.43841226,  0.15707717,  0.22438604,  0.59907909,  0.4476474 ,\n",
       "        0.46751181,  0.1824026 ,  0.21968274,  0.64405001,  0.15148845,\n",
       "        0.44526309,  0.74938184,  0.6473125 ,  0.78468891,  1.28988619,\n",
       "        0.89470417,  0.42189667,  0.68247231,  0.68377801,  0.54717396,\n",
       "        0.59907909,  0.63397234,  2.98810434,  0.54717396,  0.85031661,\n",
       "        0.42610885,  0.28516416,  0.59069346,  0.39926439,  0.44295188,\n",
       "        0.24101484,  1.47278754,  0.3115813 ,  0.20125878,  0.38982995,\n",
       "        0.38307211,  2.98810434,  0.55346622,  0.33415256,  0.32140915,\n",
       "        2.61324016,  0.19710987,  0.54828334,  0.57848917,  0.20941286,\n",
       "        0.50116994,  2.52153582,  0.68180509,  0.59365233,  0.38218535,\n",
       "        0.34322594,  0.68180509,  0.81088341,  0.17889164,  0.22604422,\n",
       "        0.19502715,  0.26315296,  0.43048153,  0.13150813,  0.34271218,\n",
       "        4.99271516,  4.73588767,  2.52153582,  0.49187238,  0.43599965,\n",
       "        0.21943782,  0.24390169,  1.56635598,  3.6164287 ,  0.4987009 ,\n",
       "        0.33436498,  0.1138444 ,  0.04438185,  0.04438185,  0.26088617,\n",
       "        0.81276523,  0.49473973,  0.42487239,  1.73559453,  0.24064717,\n",
       "        0.28457412,  0.39426414,  0.33415256,  0.44886733,  1.60238481,\n",
       "        0.23719117,  0.6012117 ,  0.60712873,  0.31175577,  0.17425983,\n",
       "        0.15707717,  0.24793548,  0.34794805,  0.34322594,  0.2430286 ,\n",
       "        0.17425983,  0.28971952,  0.23245981,  0.64997706,  0.26969209,\n",
       "        1.73559453,  0.15392478,  0.41860312,  0.55011342,  0.4476474 ,\n",
       "        0.34828127,  0.18464419,  0.20125878,  0.22588968,  0.05323769,\n",
       "        0.15208043,  0.57731808,  0.4759753 ,  0.56533241,  0.35255395,\n",
       "        0.42942169,  0.65270019,  1.00855801,  0.37964964,  0.41036679,\n",
       "        1.60286906,  0.05323769,  0.26396512,  0.21893981,  0.49248244,\n",
       "        0.28457412,  0.16095334,  0.18497901,  0.59515947,  0.15738395,\n",
       "        0.60744116,  0.63860791,  0.18497901,  0.35002237,  0.26315296,\n",
       "        0.36917821,  0.33460941,  0.2766285 ,  0.75903424,  0.51756153,\n",
       "        0.84232277,  0.28759095,  0.28119292,  0.09708669,  0.22118069,\n",
       "        0.29281221,  0.89293755,  0.41426274,  0.39896403,  0.46844902,\n",
       "        0.28556562,  0.75072577,  0.5713919 ,  0.51595772,  0.53121865,\n",
       "        0.38588275,  5.48924692,  0.34489397, 12.99227668,  0.29241438,\n",
       "        0.51595772,  0.2368495 ,  0.70992466,  0.64360439,  0.48104479,\n",
       "        0.60924327,  0.23723451,  0.15208043,  0.50734679,  0.23860148,\n",
       "        0.57258013,  1.74046564,  0.40380849,  0.58449448,  0.28540616,\n",
       "        0.68556784,  0.99572334,  1.98920281,  0.476297  ,  0.46669939,\n",
       "        0.68556784,  0.11965484,  0.54740569,  0.47875426,  1.04905141,\n",
       "        0.38055263,  1.40515174,  0.41830263,  0.40380849,  0.44130125,\n",
       "        0.52333987,  1.51695432,  0.35372593,  1.514304  ,  0.3213797 ,\n",
       "        0.16869486,  0.53710545,  0.32648805,  0.56095151,  0.16970611,\n",
       "        0.34011605,  1.02239628,  0.13861662,  0.81149506,  0.31236497,\n",
       "        0.71636839,  0.60412883,  0.33277115,  0.29301359,  0.62219161,\n",
       "        0.29301359,  0.31101758,  0.56353995,  0.11965484,  0.87712498,\n",
       "        1.15746995,  0.3348253 ,  0.36835011,  0.62541927,  0.43831206,\n",
       "        0.959856  ,  0.28540616,  0.16869486,  0.41750479,  0.31236497,\n",
       "        0.13861662,  1.40515174,  0.44772043,  1.23105416,  1.67682541,\n",
       "        0.62820109,  0.34011605,  0.71969086,  0.87712498,  0.96030163,\n",
       "        0.37321611,  0.32648805,  0.33277115,  0.65300208,  0.52333987,\n",
       "        1.70123467,  0.78324738,  0.62219161,  1.04397644,  0.24459008,\n",
       "        0.37886216,  0.52966637,  0.62822761,  0.26969209,  0.23044245,\n",
       "        0.16752299,  0.43599965,  0.7857416 ,  0.32193368,  0.20992692,\n",
       "        0.16525716,  0.39751095,  0.75072577,  0.44675387,  1.7142199 ,\n",
       "        0.40425874,  0.24393232,  0.24390169,  0.23723451,  0.40425874,\n",
       "        0.22604422,  0.28971952,  0.33011092,  0.71788206,  0.61082007,\n",
       "        0.47123353,  0.41510109,  0.46645849,  0.46645849,  0.11524265,\n",
       "        0.79357366,  0.57228164,  0.52407008,  0.95363406,  1.35883788,\n",
       "        0.71788206,  0.57228164,  0.35334985,  0.4992431 ,  1.33749357,\n",
       "        0.828882  ,  0.79356189,  1.59282727,  0.4445567 ,  0.40687325,\n",
       "        1.21428071,  0.30446135,  0.52506999,  0.50198251,  1.57686264,\n",
       "        0.41461819,  0.18617943,  0.41510109,  0.57592379,  0.62151501,\n",
       "        6.24885368,  0.30446135,  0.11524265,  0.66577496,  0.47757913,\n",
       "        0.18617943,  0.86572356,  0.62151501,  4.51945401,  1.04933445,\n",
       "        1.019665  ,  0.35334985,  0.66577496,  1.00298421,  0.77325923,\n",
       "        0.39426414,  0.36297511,  0.43941248,  1.30341177,  0.21276038,\n",
       "        0.1138444 ,  0.55646534,  0.69737958,  0.2753929 ,  0.75903424,\n",
       "        0.22118069,  0.60744116,  0.14768382,  0.39896403,  0.64240372,\n",
       "        0.14768382,  0.3571189 ,  0.50734679,  1.61365257,  0.29145473,\n",
       "        0.22984221,  0.09708669,  0.15148845,  0.3000757 ,  0.16092861,\n",
       "        0.28759095,  0.16952993,  0.12722269,  0.1949709 ,  0.10153954,\n",
       "        0.46087635,  0.15392478,  0.31748603,  0.38588275,  0.19283387,\n",
       "        0.17923775,  0.59171063,  0.45211721,  0.16525716,  0.42349383,\n",
       "        0.49864316,  0.51478927,  0.84140508,  0.3706656 ,  1.72249068,\n",
       "        0.2243181 ,  0.1824026 ,  0.13150813,  0.07562688,  0.18476049,\n",
       "        0.39093475,  0.16095334,  0.29145473,  0.40895248,  0.17770256,\n",
       "        0.19496721,  0.43131993,  0.33751497,  0.26088617,  0.07562688,\n",
       "        0.20790424,  0.65050288,  0.60908126,  0.65270019,  0.48486815,\n",
       "        0.20469869,  0.40895248,  0.46854618,  0.40495209,  0.75225268,\n",
       "        0.37323439,  0.31748603,  0.44526309,  0.9345325 ,  0.3856317 ,\n",
       "        0.30537987,  0.3115813 ,  0.38503173,  0.54253726,  0.400328  ,\n",
       "        0.41581341,  0.20992692,  0.44295188,  0.38123379,  0.54405421,\n",
       "        0.73018381,  0.6473125 ,  1.39765087,  0.37678761,  0.31430896,\n",
       "        0.94632129,  0.73018381,  0.21968274,  0.2284314 ,  0.39075305,\n",
       "        1.39765087,  0.35892149,  0.81088341,  0.31430896,  0.1811683 ])"
      ]
     },
     "execution_count": 37,
     "metadata": {},
     "output_type": "execute_result"
    }
   ],
   "source": [
    "d[:,1]"
   ]
  },
  {
   "cell_type": "code",
   "execution_count": null,
   "id": "cf18aeeb",
   "metadata": {},
   "outputs": [],
   "source": []
  },
  {
   "cell_type": "code",
   "execution_count": 38,
   "id": "da2e0894",
   "metadata": {
    "ExecuteTime": {
     "end_time": "2023-10-21T07:26:15.310956Z",
     "start_time": "2023-10-21T07:26:15.276845Z"
    }
   },
   "outputs": [
    {
     "data": {
      "text/plain": [
       "array([ 0.04438185,  0.04438185,  0.05323769,  0.05323769,  0.07562688,\n",
       "        0.07562688,  0.09708669,  0.09708669,  0.10153954,  0.1138444 ,\n",
       "        0.1138444 ,  0.11524265,  0.11524265,  0.11965484,  0.11965484,\n",
       "        0.12722269,  0.13150813,  0.13150813,  0.13861662,  0.13861662,\n",
       "        0.14768382,  0.14768382,  0.15148845,  0.15148845,  0.15208043,\n",
       "        0.15208043,  0.15392478,  0.15392478,  0.15707717,  0.15707717,\n",
       "        0.15738395,  0.16092861,  0.16095334,  0.16095334,  0.16525716,\n",
       "        0.16525716,  0.16752299,  0.16869486,  0.16869486,  0.16952993,\n",
       "        0.16970611,  0.17425983,  0.17425983,  0.17770256,  0.17770256,\n",
       "        0.17889164,  0.17923775,  0.1811683 ,  0.1824026 ,  0.1824026 ,\n",
       "        0.18464419,  0.18476049,  0.18497901,  0.18497901,  0.18617943,\n",
       "        0.18617943,  0.19283387,  0.19496721,  0.1949709 ,  0.19502715,\n",
       "        0.19710987,  0.20125878,  0.20125878,  0.20469869,  0.20790424,\n",
       "        0.20790424,  0.20941286,  0.20992692,  0.20992692,  0.21276038,\n",
       "        0.21893981,  0.21943782,  0.21968274,  0.21968274,  0.22118069,\n",
       "        0.22118069,  0.2243181 ,  0.22438604,  0.22588968,  0.22604422,\n",
       "        0.22604422,  0.2284314 ,  0.22984221,  0.23044245,  0.23245981,\n",
       "        0.2368495 ,  0.23719117,  0.23723451,  0.23723451,  0.23860148,\n",
       "        0.24064717,  0.24101484,  0.24101484,  0.2430286 ,  0.24390169,\n",
       "        0.24390169,  0.24393232,  0.24459008,  0.24793548,  0.26088617,\n",
       "        0.26088617,  0.26315296,  0.26315296,  0.26396512,  0.26969209,\n",
       "        0.26969209,  0.2753929 ,  0.2766285 ,  0.28119292,  0.28457412,\n",
       "        0.28457412,  0.28516416,  0.28540616,  0.28540616,  0.28556562,\n",
       "        0.28556562,  0.28672635,  0.28759095,  0.28759095,  0.28971952,\n",
       "        0.28971952,  0.29145473,  0.29145473,  0.29241438,  0.29281221,\n",
       "        0.29301359,  0.29301359,  0.3000757 ,  0.30446135,  0.30446135,\n",
       "        0.30537987,  0.30537987,  0.31101758,  0.3115813 ,  0.3115813 ,\n",
       "        0.31175577,  0.31236497,  0.31236497,  0.31430896,  0.31430896,\n",
       "        0.31748603,  0.31748603,  0.3213797 ,  0.32140915,  0.32193368,\n",
       "        0.32193368,  0.32648805,  0.32648805,  0.33011092,  0.33277115,\n",
       "        0.33277115,  0.33415256,  0.33415256,  0.33436498,  0.33460941,\n",
       "        0.3348253 ,  0.33751497,  0.34011605,  0.34011605,  0.34271218,\n",
       "        0.34271218,  0.34322594,  0.34322594,  0.34489397,  0.34794805,\n",
       "        0.34828127,  0.35002237,  0.35255395,  0.35334985,  0.35334985,\n",
       "        0.35372593,  0.3571189 ,  0.35892149,  0.36297511,  0.36835011,\n",
       "        0.36917821,  0.3706656 ,  0.37321611,  0.37323439,  0.37678761,\n",
       "        0.37886216,  0.37964964,  0.38055263,  0.38123379,  0.38218535,\n",
       "        0.38307211,  0.38503173,  0.3856317 ,  0.38588275,  0.38588275,\n",
       "        0.38982995,  0.39075305,  0.39093475,  0.39426414,  0.39426414,\n",
       "        0.39751095,  0.39751095,  0.39896403,  0.39896403,  0.39926439,\n",
       "        0.400328  ,  0.40142637,  0.40380849,  0.40380849,  0.40425874,\n",
       "        0.40425874,  0.40495209,  0.40687325,  0.40895248,  0.40895248,\n",
       "        0.41036679,  0.41426274,  0.4143153 ,  0.41461819,  0.41510109,\n",
       "        0.41510109,  0.41581341,  0.41750479,  0.41830263,  0.41860312,\n",
       "        0.41860312,  0.42189667,  0.42189667,  0.42349383,  0.42487239,\n",
       "        0.42610885,  0.42942169,  0.43048153,  0.43048153,  0.43131993,\n",
       "        0.43599965,  0.43599965,  0.43831206,  0.43841226,  0.43941248,\n",
       "        0.44130125,  0.44295188,  0.44295188,  0.4445567 ,  0.44526309,\n",
       "        0.44526309,  0.44675387,  0.4476474 ,  0.4476474 ,  0.44772043,\n",
       "        0.44886733,  0.45211721,  0.46087635,  0.46098501,  0.46645849,\n",
       "        0.46645849,  0.46669939,  0.46751181,  0.46844902,  0.46854618,\n",
       "        0.47123353,  0.4759753 ,  0.476297  ,  0.47757913,  0.47875426,\n",
       "        0.48104479,  0.48486815,  0.49187238,  0.49248244,  0.49473973,\n",
       "        0.49473973,  0.49864316,  0.4987009 ,  0.4992431 ,  0.50116994,\n",
       "        0.50198251,  0.50734679,  0.50734679,  0.51478927,  0.51595772,\n",
       "        0.51595772,  0.51756153,  0.52333987,  0.52333987,  0.52407008,\n",
       "        0.52506999,  0.52966637,  0.53121865,  0.53710545,  0.54253726,\n",
       "        0.54405421,  0.54717396,  0.54717396,  0.54740569,  0.54828334,\n",
       "        0.54828334,  0.55011342,  0.55346622,  0.55646534,  0.55646534,\n",
       "        0.56095151,  0.56353995,  0.56533241,  0.5713919 ,  0.57228164,\n",
       "        0.57228164,  0.57258013,  0.57592379,  0.57731808,  0.57848917,\n",
       "        0.58449448,  0.59069346,  0.59171063,  0.59365233,  0.59515947,\n",
       "        0.59907909,  0.59907909,  0.6012117 ,  0.60412883,  0.60712873,\n",
       "        0.60744116,  0.60744116,  0.60908126,  0.60924327,  0.61082007,\n",
       "        0.62151501,  0.62151501,  0.62219161,  0.62219161,  0.62541927,\n",
       "        0.62820109,  0.62822761,  0.63397234,  0.63860791,  0.64240372,\n",
       "        0.64360439,  0.64405001,  0.6473125 ,  0.6473125 ,  0.64997706,\n",
       "        0.65050288,  0.65270019,  0.65270019,  0.65300208,  0.66577496,\n",
       "        0.66577496,  0.68180509,  0.68180509,  0.68247231,  0.68377801,\n",
       "        0.68556784,  0.68556784,  0.69737958,  0.70992466,  0.71636839,\n",
       "        0.71788206,  0.71788206,  0.71969086,  0.73018381,  0.73018381,\n",
       "        0.74054188,  0.74938184,  0.75072577,  0.75072577,  0.75225268,\n",
       "        0.75903424,  0.75903424,  0.77325923,  0.77328812,  0.78324738,\n",
       "        0.78468891,  0.7857416 ,  0.79356189,  0.79357366,  0.81088341,\n",
       "        0.81088341,  0.81149506,  0.81276523,  0.81980385,  0.828882  ,\n",
       "        0.84140508,  0.84232277,  0.85031661,  0.86572356,  0.87712498,\n",
       "        0.87712498,  0.89293755,  0.89470417,  0.89470417,  0.9345325 ,\n",
       "        0.94632129,  0.95363406,  0.959856  ,  0.96030163,  0.99572334,\n",
       "        1.00298421,  1.00855801,  1.019665  ,  1.02239628,  1.04397644,\n",
       "        1.04905141,  1.04933445,  1.11479524,  1.15746995,  1.21428071,\n",
       "        1.23105416,  1.2507466 ,  1.28988619,  1.30341177,  1.33749357,\n",
       "        1.35883788,  1.39765087,  1.39765087,  1.40515174,  1.40515174,\n",
       "        1.47278754,  1.514304  ,  1.51695432,  1.56635598,  1.57686264,\n",
       "        1.59282727,  1.60238481,  1.60286906,  1.61365257,  1.67682541,\n",
       "        1.70123467,  1.7142199 ,  1.72249068,  1.73559453,  1.73559453,\n",
       "        1.74046564,  1.98920281,  2.52153582,  2.52153582,  2.61324016,\n",
       "        2.98810434,  2.98810434,  3.6164287 ,  4.51945401,  4.62909095,\n",
       "        4.73588767,  4.99271516,  5.48924692,  6.24885368, 12.99227668])"
      ]
     },
     "execution_count": 38,
     "metadata": {},
     "output_type": "execute_result"
    }
   ],
   "source": [
    "distance = np.sort(d[:,1])\n",
    "distance"
   ]
  },
  {
   "cell_type": "code",
   "execution_count": 52,
   "id": "a975e4c0",
   "metadata": {
    "ExecuteTime": {
     "end_time": "2023-10-21T07:28:25.400585Z",
     "start_time": "2023-10-21T07:28:24.745031Z"
    },
    "scrolled": true
   },
   "outputs": [
    {
     "data": {
      "text/plain": [
       "Text(0.5, 1.0, 'K-Distance Graph')"
      ]
     },
     "execution_count": 52,
     "metadata": {},
     "output_type": "execute_result"
    },
    {
     "data": {
      "image/png": "[encoded data removed]",
      "text/plain": [
       "<Figure size 432x288 with 1 Axes>"
      ]
     },
     "metadata": {
      "needs_background": "light"
     },
     "output_type": "display_data"
    }
   ],
   "source": [
    "plt.plot(distance)\n",
    "plt.axhline(y=2, linestyle = '--', color = 'red')#horrizontal Axis\n",
    "plt.axvline(x=425, linestyle = '--', color = 'red')#Vertical Axis\n",
    "plt.xlabel('Distance')\n",
    "plt.ylabel('EPS')\n",
    "plt.title('K-Distance Graph')"
   ]
  },
  {
   "cell_type": "markdown",
   "id": "b9b41925",
   "metadata": {
    "ExecuteTime": {
     "end_time": "2023-04-20T11:40:13.847443Z",
     "start_time": "2023-04-20T11:40:13.808777Z"
    }
   },
   "source": [
    "# Evaluate the model"
   ]
  },
  {
   "cell_type": "code",
   "execution_count": 56,
   "id": "dd93629e",
   "metadata": {
    "ExecuteTime": {
     "end_time": "2023-10-21T07:32:06.057710Z",
     "start_time": "2023-10-21T07:32:06.037579Z"
    },
    "scrolled": true
   },
   "outputs": [
    {
     "data": {
      "text/plain": [
       "array([ 0,  0,  0,  0,  0,  0,  0,  0,  0,  0,  0,  0,  0,  0,  0,  0,  0,\n",
       "        0,  0,  0,  0,  0,  0, -1,  0,  0,  0,  0,  0,  0,  0,  0,  0,  0,\n",
       "        0,  0,  0,  0,  0,  0,  0,  0,  0,  0,  0,  0,  0, -1,  0,  0,  0,\n",
       "        0,  0,  0,  0,  0,  0,  0,  0,  0,  0, -1,  0,  0,  0, -1,  0,  0,\n",
       "        0,  0,  0, -1,  0,  0,  0,  0,  0,  0,  0,  0,  0,  0,  0,  0,  0,\n",
       "       -1, -1, -1,  0,  0,  0,  0,  0, -1,  0,  0,  0,  0,  0,  0,  0,  0,\n",
       "        0,  0,  0,  0,  0,  0,  0,  0,  0,  0,  0,  0,  0,  0,  0,  0,  0,\n",
       "        0,  0,  0,  0,  0,  0,  0,  0,  0,  0,  0,  0,  0,  0,  0,  0,  0,\n",
       "        0,  0,  0,  0,  0,  0,  0,  0,  0,  0,  0,  0,  0,  0,  0,  0,  0,\n",
       "        0,  0,  0,  0,  0,  0,  0,  0,  0,  0,  0,  0,  0,  0,  0,  0,  0,\n",
       "        0,  0,  0,  0,  0,  0,  0,  0,  0,  0,  0, -1,  0, -1,  0,  0,  0,\n",
       "        0,  0,  0,  0,  0,  0,  0,  0,  0,  0,  0,  0,  0,  0,  0,  0,  0,\n",
       "        0,  0,  0,  0,  0,  0,  0, -1,  0,  0,  0,  0,  0,  0,  0,  0,  0,\n",
       "        0,  0,  0,  0,  0,  0,  0,  0,  0,  0,  0,  0,  0,  0,  0,  0,  0,\n",
       "        0,  0,  0,  0,  0,  0,  0,  0,  0,  0,  0,  0,  0, -1,  0,  0,  0,\n",
       "        0,  0,  0,  0,  0,  0,  0,  0,  0,  0,  0,  0,  0,  0,  0,  0,  0,\n",
       "        0,  0,  0,  0,  0,  0,  0,  0,  0,  0,  0,  0,  0,  0,  0,  0,  0,\n",
       "        0,  0,  0,  0,  0,  0,  0,  0,  0,  0,  0,  0,  0,  0,  0,  0,  0,\n",
       "        0,  0,  0,  0,  0,  0,  0,  0,  0,  0,  0,  0,  0,  0,  0,  0,  0,\n",
       "        0,  0, -1,  0,  0,  0,  0,  0,  0,  0, -1,  0,  0,  0,  0,  0,  0,\n",
       "        0,  0,  0,  0,  0,  0,  0,  0,  0,  0,  0,  0,  0,  0,  0,  0,  0,\n",
       "        0,  0,  0,  0,  0,  0,  0,  0,  0,  0,  0,  0,  0,  0,  0,  0,  0,\n",
       "        0,  0,  0,  0,  0,  0,  0,  0,  0,  0,  0,  0,  0,  0,  0,  0,  0,\n",
       "        0,  0,  0,  0,  0,  0,  0,  0,  0,  0,  0,  0,  0,  0,  0,  0,  0,\n",
       "        0,  0,  0,  0,  0,  0,  0,  0,  0,  0,  0,  0,  0,  0,  0,  0,  0,\n",
       "        0,  0,  0,  0,  0,  0,  0,  0,  0,  0,  0,  0,  0,  0,  0],\n",
       "      dtype=int64)"
      ]
     },
     "execution_count": 56,
     "metadata": {},
     "output_type": "execute_result"
    }
   ],
   "source": [
    "db = DBSCAN(eps=2.,min_samples=3)\n",
    "yp = db.fit_predict(x)\n",
    "yp"
   ]
  },
  {
   "cell_type": "code",
   "execution_count": 41,
   "id": "e99ea7e3",
   "metadata": {
    "ExecuteTime": {
     "end_time": "2023-10-21T07:32:06.659122Z",
     "start_time": "2023-10-21T07:32:06.276880Z"
    }
   },
   "outputs": [
    {
     "data": {
      "text/plain": [
       "<matplotlib.collections.PathCollection at 0x24304000250>"
      ]
     },
     "execution_count": 41,
     "metadata": {},
     "output_type": "execute_result"
    },
    {
     "data": {
      "image/png": "[encoded data removed]",
      "text/plain": [
       "<Figure size 432x288 with 1 Axes>"
      ]
     },
     "metadata": {
      "needs_background": "light"
     },
     "output_type": "display_data"
    }
   ],
   "source": [
    "plt.scatter(x[:,1],x[:,2],c = yp, cmap='rainbow')"
   ]
  },
  {
   "cell_type": "code",
   "execution_count": 42,
   "id": "aed644c4",
   "metadata": {
    "ExecuteTime": {
     "end_time": "2023-10-21T07:32:06.708423Z",
     "start_time": "2023-10-21T07:32:06.671262Z"
    }
   },
   "outputs": [
    {
     "data": {
      "text/plain": [
       "0.8125564946669382"
      ]
     },
     "execution_count": 42,
     "metadata": {},
     "output_type": "execute_result"
    }
   ],
   "source": [
    "silhouette_score(x,yp)"
   ]
  },
  {
   "cell_type": "code",
   "execution_count": 43,
   "id": "08bbb4cd",
   "metadata": {
    "ExecuteTime": {
     "end_time": "2023-10-21T07:32:07.075025Z",
     "start_time": "2023-10-21T07:32:07.063751Z"
    }
   },
   "outputs": [],
   "source": [
    "#Analyze the clusters"
   ]
  },
  {
   "cell_type": "code",
   "execution_count": 43,
   "id": "1b46b60e",
   "metadata": {
    "ExecuteTime": {
     "end_time": "2023-10-21T07:32:40.199004Z",
     "start_time": "2023-10-21T07:32:40.178595Z"
    }
   },
   "outputs": [
    {
     "data": {
      "text/html": [
       "<div>\n",
       "<style scoped>\n",
       "    .dataframe tbody tr th:only-of-type {\n",
       "        vertical-align: middle;\n",
       "    }\n",
       "\n",
       "    .dataframe tbody tr th {\n",
       "        vertical-align: top;\n",
       "    }\n",
       "\n",
       "    .dataframe thead th {\n",
       "        text-align: right;\n",
       "    }\n",
       "</style>\n",
       "<table border=\"1\" class=\"dataframe\">\n",
       "  <thead>\n",
       "    <tr style=\"text-align: right;\">\n",
       "      <th></th>\n",
       "      <th>Region</th>\n",
       "      <th>Fresh</th>\n",
       "      <th>Milk</th>\n",
       "      <th>Grocery</th>\n",
       "      <th>Frozen</th>\n",
       "      <th>Detergents_Paper</th>\n",
       "      <th>Delicassen</th>\n",
       "      <th>Cluster</th>\n",
       "    </tr>\n",
       "    <tr>\n",
       "      <th>Channel</th>\n",
       "      <th></th>\n",
       "      <th></th>\n",
       "      <th></th>\n",
       "      <th></th>\n",
       "      <th></th>\n",
       "      <th></th>\n",
       "      <th></th>\n",
       "      <th></th>\n",
       "    </tr>\n",
       "  </thead>\n",
       "  <tbody>\n",
       "    <tr>\n",
       "      <th>2</th>\n",
       "      <td>3</td>\n",
       "      <td>12669</td>\n",
       "      <td>9656</td>\n",
       "      <td>7561</td>\n",
       "      <td>214</td>\n",
       "      <td>2674</td>\n",
       "      <td>1338</td>\n",
       "      <td>0</td>\n",
       "    </tr>\n",
       "    <tr>\n",
       "      <th>2</th>\n",
       "      <td>3</td>\n",
       "      <td>7057</td>\n",
       "      <td>9810</td>\n",
       "      <td>9568</td>\n",
       "      <td>1762</td>\n",
       "      <td>3293</td>\n",
       "      <td>1776</td>\n",
       "      <td>0</td>\n",
       "    </tr>\n",
       "    <tr>\n",
       "      <th>2</th>\n",
       "      <td>3</td>\n",
       "      <td>6353</td>\n",
       "      <td>8808</td>\n",
       "      <td>7684</td>\n",
       "      <td>2405</td>\n",
       "      <td>3516</td>\n",
       "      <td>7844</td>\n",
       "      <td>0</td>\n",
       "    </tr>\n",
       "    <tr>\n",
       "      <th>1</th>\n",
       "      <td>3</td>\n",
       "      <td>13265</td>\n",
       "      <td>1196</td>\n",
       "      <td>4221</td>\n",
       "      <td>6404</td>\n",
       "      <td>507</td>\n",
       "      <td>1788</td>\n",
       "      <td>0</td>\n",
       "    </tr>\n",
       "    <tr>\n",
       "      <th>2</th>\n",
       "      <td>3</td>\n",
       "      <td>22615</td>\n",
       "      <td>5410</td>\n",
       "      <td>7198</td>\n",
       "      <td>3915</td>\n",
       "      <td>1777</td>\n",
       "      <td>5185</td>\n",
       "      <td>0</td>\n",
       "    </tr>\n",
       "    <tr>\n",
       "      <th>...</th>\n",
       "      <td>...</td>\n",
       "      <td>...</td>\n",
       "      <td>...</td>\n",
       "      <td>...</td>\n",
       "      <td>...</td>\n",
       "      <td>...</td>\n",
       "      <td>...</td>\n",
       "      <td>...</td>\n",
       "    </tr>\n",
       "    <tr>\n",
       "      <th>1</th>\n",
       "      <td>3</td>\n",
       "      <td>29703</td>\n",
       "      <td>12051</td>\n",
       "      <td>16027</td>\n",
       "      <td>13135</td>\n",
       "      <td>182</td>\n",
       "      <td>2204</td>\n",
       "      <td>0</td>\n",
       "    </tr>\n",
       "    <tr>\n",
       "      <th>1</th>\n",
       "      <td>3</td>\n",
       "      <td>39228</td>\n",
       "      <td>1431</td>\n",
       "      <td>764</td>\n",
       "      <td>4510</td>\n",
       "      <td>93</td>\n",
       "      <td>2346</td>\n",
       "      <td>0</td>\n",
       "    </tr>\n",
       "    <tr>\n",
       "      <th>2</th>\n",
       "      <td>3</td>\n",
       "      <td>14531</td>\n",
       "      <td>15488</td>\n",
       "      <td>30243</td>\n",
       "      <td>437</td>\n",
       "      <td>14841</td>\n",
       "      <td>1867</td>\n",
       "      <td>0</td>\n",
       "    </tr>\n",
       "    <tr>\n",
       "      <th>1</th>\n",
       "      <td>3</td>\n",
       "      <td>10290</td>\n",
       "      <td>1981</td>\n",
       "      <td>2232</td>\n",
       "      <td>1038</td>\n",
       "      <td>168</td>\n",
       "      <td>2125</td>\n",
       "      <td>0</td>\n",
       "    </tr>\n",
       "    <tr>\n",
       "      <th>1</th>\n",
       "      <td>3</td>\n",
       "      <td>2787</td>\n",
       "      <td>1698</td>\n",
       "      <td>2510</td>\n",
       "      <td>65</td>\n",
       "      <td>477</td>\n",
       "      <td>52</td>\n",
       "      <td>0</td>\n",
       "    </tr>\n",
       "  </tbody>\n",
       "</table>\n",
       "<p>440 rows × 8 columns</p>\n",
       "</div>"
      ],
      "text/plain": [
       "         Region  Fresh   Milk  Grocery  Frozen  Detergents_Paper  Delicassen  \\\n",
       "Channel                                                                        \n",
       "2             3  12669   9656     7561     214              2674        1338   \n",
       "2             3   7057   9810     9568    1762              3293        1776   \n",
       "2             3   6353   8808     7684    2405              3516        7844   \n",
       "1             3  13265   1196     4221    6404               507        1788   \n",
       "2             3  22615   5410     7198    3915              1777        5185   \n",
       "...         ...    ...    ...      ...     ...               ...         ...   \n",
       "1             3  29703  12051    16027   13135               182        2204   \n",
       "1             3  39228   1431      764    4510                93        2346   \n",
       "2             3  14531  15488    30243     437             14841        1867   \n",
       "1             3  10290   1981     2232    1038               168        2125   \n",
       "1             3   2787   1698     2510      65               477          52   \n",
       "\n",
       "         Cluster  \n",
       "Channel           \n",
       "2              0  \n",
       "2              0  \n",
       "2              0  \n",
       "1              0  \n",
       "2              0  \n",
       "...          ...  \n",
       "1              0  \n",
       "1              0  \n",
       "2              0  \n",
       "1              0  \n",
       "1              0  \n",
       "\n",
       "[440 rows x 8 columns]"
      ]
     },
     "execution_count": 43,
     "metadata": {},
     "output_type": "execute_result"
    }
   ],
   "source": [
    "df['Cluster'] = yp\n",
    "df"
   ]
  },
  {
   "cell_type": "code",
   "execution_count": 45,
   "id": "249189c2",
   "metadata": {},
   "outputs": [
    {
     "data": {
      "text/plain": [
       " 0    438\n",
       "-1      2\n",
       "Name: Cluster, dtype: int64"
      ]
     },
     "execution_count": 45,
     "metadata": {},
     "output_type": "execute_result"
    }
   ],
   "source": [
    "df['Cluster'].value_counts()"
   ]
  },
  {
   "cell_type": "code",
   "execution_count": 46,
   "id": "0174c275",
   "metadata": {
    "ExecuteTime": {
     "end_time": "2023-10-21T07:33:08.679908Z",
     "start_time": "2023-10-21T07:33:08.648196Z"
    }
   },
   "outputs": [
    {
     "data": {
      "text/html": [
       "<div>\n",
       "<style scoped>\n",
       "    .dataframe tbody tr th:only-of-type {\n",
       "        vertical-align: middle;\n",
       "    }\n",
       "\n",
       "    .dataframe tbody tr th {\n",
       "        vertical-align: top;\n",
       "    }\n",
       "\n",
       "    .dataframe thead th {\n",
       "        text-align: right;\n",
       "    }\n",
       "</style>\n",
       "<table border=\"1\" class=\"dataframe\">\n",
       "  <thead>\n",
       "    <tr style=\"text-align: right;\">\n",
       "      <th></th>\n",
       "      <th>Region</th>\n",
       "      <th>Fresh</th>\n",
       "      <th>Milk</th>\n",
       "      <th>Grocery</th>\n",
       "      <th>Frozen</th>\n",
       "      <th>Detergents_Paper</th>\n",
       "      <th>Delicassen</th>\n",
       "    </tr>\n",
       "    <tr>\n",
       "      <th>Cluster</th>\n",
       "      <th></th>\n",
       "      <th></th>\n",
       "      <th></th>\n",
       "      <th></th>\n",
       "      <th></th>\n",
       "      <th></th>\n",
       "      <th></th>\n",
       "    </tr>\n",
       "  </thead>\n",
       "  <tbody>\n",
       "    <tr>\n",
       "      <th>-1</th>\n",
       "      <td>2.500000</td>\n",
       "      <td>34782.000000</td>\n",
       "      <td>30367.000000</td>\n",
       "      <td>16898.000000</td>\n",
       "      <td>48701.500000</td>\n",
       "      <td>755.500000</td>\n",
       "      <td>26776.000000</td>\n",
       "    </tr>\n",
       "    <tr>\n",
       "      <th>0</th>\n",
       "      <td>2.543379</td>\n",
       "      <td>11896.271689</td>\n",
       "      <td>5684.070776</td>\n",
       "      <td>7910.424658</td>\n",
       "      <td>2863.577626</td>\n",
       "      <td>2891.200913</td>\n",
       "      <td>1409.568493</td>\n",
       "    </tr>\n",
       "  </tbody>\n",
       "</table>\n",
       "</div>"
      ],
      "text/plain": [
       "           Region         Fresh          Milk       Grocery        Frozen  \\\n",
       "Cluster                                                                     \n",
       "-1       2.500000  34782.000000  30367.000000  16898.000000  48701.500000   \n",
       " 0       2.543379  11896.271689   5684.070776   7910.424658   2863.577626   \n",
       "\n",
       "         Detergents_Paper    Delicassen  \n",
       "Cluster                                  \n",
       "-1             755.500000  26776.000000  \n",
       " 0            2891.200913   1409.568493  "
      ]
     },
     "execution_count": 46,
     "metadata": {},
     "output_type": "execute_result"
    }
   ],
   "source": [
    "df.groupby('Cluster').agg('mean')"
   ]
  },
  {
   "cell_type": "markdown",
   "id": "0934e6f8",
   "metadata": {},
   "source": [
    "# The End"
   ]
  },
  {
   "cell_type": "code",
   "execution_count": null,
   "id": "5d447aa3",
   "metadata": {},
   "outputs": [],
   "source": []
  }
 ],
 "metadata": {
  "kernelspec": {
   "display_name": "Python 3 (ipykernel)",
   "language": "python",
   "name": "python3"
  },
  "language_info": {
   "codemirror_mode": {
    "name": "ipython",
    "version": 3
   },
   "file_extension": ".py",
   "mimetype": "text/x-python",
   "name": "python",
   "nbconvert_exporter": "python",
   "pygments_lexer": "ipython3",
   "version": "3.12.4"
  }
 },
 "nbformat": 4,
 "nbformat_minor": 5
}
